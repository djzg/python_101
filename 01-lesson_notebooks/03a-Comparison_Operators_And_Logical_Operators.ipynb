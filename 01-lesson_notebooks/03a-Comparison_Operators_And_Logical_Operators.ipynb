{
 "cells": [
  {
   "cell_type": "markdown",
   "source": [
    "# Comparison Operators and Logical Operators"
   ],
   "metadata": {}
  },
  {
   "cell_type": "markdown",
   "source": [
    "## Comparison Operators"
   ],
   "metadata": {}
  },
  {
   "cell_type": "markdown",
   "source": [
    "We often need to compare two values. Is one value greater? lesser? equal to?\r\n",
    "\r\n",
    "Python has the following comparison operators:\r\n",
    "\r\n",
    "    num_1 == num_2 # num_1 equals num_2\r\n",
    "    num_1 != num_2 # num_1 does not equal num_2\r\n",
    "    num_1 > num_2 # num_1 is greater than num_2\r\n",
    "    num_1 < num_2 # num_1 is less than num_2\r\n",
    "    num_1 >= num_2 # num_1 is greater than or equal to num_2\r\n",
    "    num_1 <= num_2 # num_1 is less than or equal to num_2"
   ],
   "metadata": {}
  },
  {
   "cell_type": "markdown",
   "source": [
    "Each of the above **conditions** is either True or False, so if you print out the type of the comparison, you'll see that it's a bool value (`True` or `False`). \r\n",
    "\r\n",
    "For example:"
   ],
   "metadata": {}
  },
  {
   "cell_type": "code",
   "execution_count": null,
   "source": [
    "17 < 5 # False"
   ],
   "outputs": [],
   "metadata": {}
  },
  {
   "cell_type": "code",
   "execution_count": null,
   "source": [
    "3 != 12 # True"
   ],
   "outputs": [],
   "metadata": {}
  },
  {
   "cell_type": "markdown",
   "source": [
    "Don't mix up the assignment operator (=) and the equality operator (==). It's a common mistake that can be hard to see.\r\n",
    "\r\n",
    "**You shouldn't test two floats for exact equality because of possible lack of precision or round-off errors.**  \r\n",
    "\r\n",
    "Instead, if you need to compare float values for equality, you can do something like this:\r\n",
    "\r\n",
    "    abs(num_1 - num_2) < 0.000001"
   ],
   "metadata": {}
  },
  {
   "cell_type": "markdown",
   "source": [
    "This takes the absolute value of the difference between the two numbers and checks whether it's less than a very small value.\r\n",
    "\r\n",
    "Unlike many computer languages, Python allows you to chain comparison operators.  In Python you check if x is between 2 and 7 by saying\r\n",
    "\r\n",
    "    2 < x < 7\r\n",
    "    \r\n",
    "whereas in most languages you would need to write that as\r\n",
    "\r\n",
    "    2 < x and x < 7\r\n",
    "    \r\n",
    "The logical operator `and` is discussed in the following section."
   ],
   "metadata": {}
  },
  {
   "cell_type": "markdown",
   "source": [
    "## Logical Operators"
   ],
   "metadata": {}
  },
  {
   "cell_type": "markdown",
   "source": [
    "Sometimes we need to combine comparisons. Python has the following logical operators:\r\n",
    "\r\n",
    "    bool_1 and bool_2                  # Both bool_1 and bool_2 equal True\r\n",
    "    bool_1 or bool_2                   # At least one of bool_1 and bool_2 equals True\r\n",
    "    not bool_1                         # Flips the value of bool_1. If bool_1 is True not bool_1 is False and vice versa\r\n",
    "    \r\n",
    "Each of these conditions is also either True or False."
   ],
   "metadata": {}
  },
  {
   "cell_type": "code",
   "execution_count": null,
   "source": [
    "17 >= 10 and 5 % 2 == 0   # True and False, which equals False"
   ],
   "outputs": [],
   "metadata": {}
  },
  {
   "cell_type": "code",
   "execution_count": null,
   "source": [
    "17 >= 10 or 5 % 2 == 0    # True or False, which equals True"
   ],
   "outputs": [],
   "metadata": {}
  },
  {
   "cell_type": "code",
   "execution_count": null,
   "source": [
    "not 17 >= 10              # not True, which equals False"
   ],
   "outputs": [],
   "metadata": {}
  },
  {
   "cell_type": "markdown",
   "source": [
    "## Some Clarification\r\n",
    "\r\n",
    "Logical conditionals can feel tricky, but if we it's really no different from standard english. \r\n",
    "\r\n",
    "Assume that P and Q represent two conditions. **P and Q** is only true if P is true **and** Q is true. \r\n",
    "\r\n",
    "For instance if some asked that \"is it cold and rainy outside\"?. If it's cold, but not raining, the answer would be no. If it's raining, but not cold, the answer would also be no. The answer is only yes to this question when BOTH conditions are true.\r\n",
    "\r\n",
    "On the other side, **P or Q** is true if **either** P is true **or** Q is true (or both). We can use the same anaology as before. If asked, \"is it cold or rainy\" outside. Then the answer is True if it's both cold and rainy, or either rainy or cold. The only time it is false, is when it is neither cold and rainy.\r\n",
    "\r\n",
    "\r\n",
    "The **not** operator just flips the value from true to false or vice-versa.  So if P is false, then **not P** is true, but if P is true, then **not P** is false."
   ],
   "metadata": {}
  },
  {
   "cell_type": "markdown",
   "source": [
    "## A Common Syntax Error\r\n",
    "\r\n",
    "\r\n",
    "To check if num_x and num_y are both equal to 5, it is **not** correct to do the following:\r\n",
    "\r\n",
    "    num_x and num_y == 5  # wrong\r\n",
    "    \r\n",
    "since that would check whether x is True and y==5 is True.  Instead, you would need to do this:\r\n",
    "\r\n",
    "    num_x == 5 and num_y == 5\r\n",
    "    \r\n",
    "or since we know we can chain comparisons:\r\n",
    "\r\n",
    "    num_x == num_y == 5"
   ],
   "metadata": {}
  },
  {
   "cell_type": "markdown",
   "source": [
    "## Exercises"
   ],
   "metadata": {}
  },
  {
   "cell_type": "markdown",
   "source": [
    "1. Print the value of 17 < 5."
   ],
   "metadata": {}
  },
  {
   "cell_type": "code",
   "execution_count": null,
   "source": [
    "# type code here\r\n"
   ],
   "outputs": [],
   "metadata": {}
  },
  {
   "cell_type": "markdown",
   "source": [
    "2. Write code that reads a number from the user, assigns it to a variable, and then prints True if that value is greater than 10, but prints False otherwise."
   ],
   "metadata": {}
  },
  {
   "cell_type": "code",
   "execution_count": null,
   "source": [
    "# type code here\r\n"
   ],
   "outputs": [],
   "metadata": {}
  },
  {
   "cell_type": "markdown",
   "source": [
    "3. Write code that reads a number from the user, assigns it to a variable, and then prints True if that value is between 50 and 100 (inclusive), but prints False otherwise."
   ],
   "metadata": {}
  },
  {
   "cell_type": "code",
   "execution_count": null,
   "source": [
    "# type code here\r\n"
   ],
   "outputs": [],
   "metadata": {}
  }
 ],
 "metadata": {
  "kernelspec": {
   "display_name": "Python 3",
   "language": "python",
   "name": "python3"
  },
  "language_info": {
   "codemirror_mode": {
    "name": "ipython",
    "version": 3
   },
   "file_extension": ".py",
   "mimetype": "text/x-python",
   "name": "python",
   "nbconvert_exporter": "python",
   "pygments_lexer": "ipython3",
   "version": "3.8.2"
  }
 },
 "nbformat": 4,
 "nbformat_minor": 4
}