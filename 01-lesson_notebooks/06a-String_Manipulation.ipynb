{
 "cells": [
  {
   "cell_type": "markdown",
   "metadata": {},
   "source": [
    "# String Manipulation"
   ]
  },
  {
   "cell_type": "markdown",
   "metadata": {},
   "source": [
    "## in, not in"
   ]
  },
  {
   "cell_type": "markdown",
   "metadata": {},
   "source": [
    "There are operators called **in** and **not in** that can be used to check whether or not a string contains another string. For example:"
   ]
  },
  {
   "cell_type": "code",
   "execution_count": null,
   "metadata": {},
   "outputs": [],
   "source": [
    "print(\"ow\" in \"chowder\")\n",
    "print(\"ow\" not in \"chowder\")\n",
    "\n",
    "animal = \"anteater\"\n",
    "print(\"ant\" in animal)\n",
    "bug = \"aphid\"\n",
    "print(bug in animal)"
   ]
  },
  {
   "cell_type": "markdown",
   "metadata": {},
   "source": [
    "## len"
   ]
  },
  {
   "cell_type": "markdown",
   "metadata": {},
   "source": [
    "There is a function called len that returns the length of a string:\n",
    "\n",
    "    len(\"hokey pokey\")\n",
    "    city = \"Charleston\"\n",
    "    len(city)"
   ]
  },
  {
   "cell_type": "markdown",
   "metadata": {},
   "source": [
    "## upper and lower"
   ]
  },
  {
   "cell_type": "markdown",
   "metadata": {},
   "source": [
    "You can use the functions upper and lower to get an upper-case or lower-case version of a string.\n",
    "\n",
    "    \"slithy\".upper()\n",
    "    var = \"TOVES\"\n",
    "    var.lower()"
   ]
  },
  {
   "cell_type": "markdown",
   "metadata": {},
   "source": [
    "## Operators vs. Functions vs. Methods"
   ]
  },
  {
   "cell_type": "markdown",
   "metadata": {},
   "source": [
    "Notice the different syntax we've used for *in* and *not in*, *len*, and *upper* and *lower*. The *in* and *not in* operators are used between two values (the operands) in a format similar to arithmetic operators, like * and /. These arithmetic operators each have two numeric operands. However in the examples for *in* and *not in*, we used strings for both operands.\n",
    "\n",
    "The *len* **function** is called in the same way we've called other functions - we first give the name of the function, and then list inside parentheses any values we're passing to the function. In this case we're passing a string to the function.\n",
    "\n",
    "The *upper* and *lower* **methods** are called using the dot notation syntax that we use with objects. That's because strings (like everything else in Python) are objects that have certain methods defined for them. In this case, we don't have to pass the string as an argument. You can think of it as politely asking the string if it would be so kind as to give you an upper-case (or lower-case) version of itself. (The string is implicitly passed to the method as the *self* argument.)"
   ]
  },
  {
   "cell_type": "markdown",
   "metadata": {},
   "source": [
    "## Indexing"
   ]
  },
  {
   "cell_type": "markdown",
   "metadata": {},
   "source": [
    "We can get the character at a certain position, or **index**, in a string by indexing into the string. Imagine numbering the letters of a string in order, **starting with zero**. So in the string \"onyx\", the \"o\" is at index zero, the \"n\" is at index 1, the \"y\" is at index 2, and the \"x\" is at index 3. **Notice that the index of the last character is the length of the string minus 1**. We index into a string by following it with square brackets containing the index that we want to access."
   ]
  },
  {
   "cell_type": "code",
   "execution_count": null,
   "metadata": {},
   "outputs": [],
   "source": [
    "gem = \"onyx\"\n",
    "dino = \"velociraptor\"\n",
    "fruit = \"strawberry\"\n",
    "hero = \"spiderman\"\n",
    "poem = \"mary had a little lamb\"\n",
    "\n",
    "print(gem[2])\n",
    "print(gem[0])\n",
    "print(gem[len(gem)-1])"
   ]
  },
  {
   "cell_type": "markdown",
   "metadata": {},
   "source": [
    "We can also use negative indices, in which case we count from the back of the string. The character at index -1 would be the last character in the string, the one at -2 would be the next-to-last character, etc."
   ]
  },
  {
   "cell_type": "code",
   "execution_count": null,
   "metadata": {},
   "outputs": [],
   "source": [
    "print(dino[-1])\n",
    "print(dino[-12])"
   ]
  },
  {
   "cell_type": "markdown",
   "metadata": {},
   "source": [
    "## Slicing"
   ]
  },
  {
   "cell_type": "markdown",
   "metadata": {},
   "source": [
    "\"Slicing\" a string gives you back part of that string, based on the indices for the start and end of the part you want.|"
   ]
  },
  {
   "cell_type": "code",
   "execution_count": null,
   "metadata": {},
   "outputs": [],
   "source": [
    "fruit[2:5]"
   ]
  },
  {
   "cell_type": "markdown",
   "metadata": {},
   "source": [
    "Notice that the substring you get back starts at the first index, and goes up to, **but does not include** the second index (similar to making a range). If you omit the first index, the substring starts at the first character. If you omit the second index, the substring ends at the last character."
   ]
  },
  {
   "cell_type": "code",
   "execution_count": null,
   "metadata": {},
   "outputs": [],
   "source": [
    "print(hero[:6])\n",
    "print(hero[6:])"
   ]
  },
  {
   "cell_type": "markdown",
   "metadata": {},
   "source": [
    "The character at index 6 (the seventh character) doesn't get included in the first slice, but does in the second slice. We can also specify the \"stride\" for a slice, which allows us to get a slice that has every other character (a stride of 2), every third character (a stride of 3), etc."
   ]
  },
  {
   "cell_type": "code",
   "execution_count": null,
   "metadata": {},
   "outputs": [],
   "source": [
    "poem[::-1]"
   ]
  },
  {
   "cell_type": "markdown",
   "metadata": {},
   "source": [
    "## Comparison Operators"
   ]
  },
  {
   "cell_type": "markdown",
   "metadata": {},
   "source": [
    "We can use the normal comparison operators with strings, where if it's true that A < B, then that means A comes before B in lexicographic order (dictionary order)."
   ]
  },
  {
   "cell_type": "code",
   "execution_count": null,
   "metadata": {},
   "outputs": [],
   "source": [
    "\"zebra\" < \"aardvark\""
   ]
  },
  {
   "cell_type": "code",
   "execution_count": null,
   "metadata": {},
   "outputs": [],
   "source": [
    "\"zebra\" > \"aardvark\""
   ]
  },
  {
   "cell_type": "code",
   "execution_count": null,
   "metadata": {},
   "outputs": [],
   "source": [
    "word = \"catharsis\"\n",
    "\"cat\" == word[:3]"
   ]
  },
  {
   "cell_type": "markdown",
   "metadata": {},
   "source": [
    "However, there's an important caveat: because characters are encoded as numbers, and because upper-case letters have lower numbers than lower-case letters, Python will say that upper-case letters come before lower-case letters."
   ]
  },
  {
   "cell_type": "code",
   "execution_count": null,
   "metadata": {},
   "outputs": [],
   "source": [
    "\"Zebra\" > \"aardvark\""
   ]
  },
  {
   "cell_type": "markdown",
   "metadata": {},
   "source": [
    "One way to handle this is to convert the strings to upper-case (or lower-case) before comparing them."
   ]
  },
  {
   "cell_type": "code",
   "execution_count": null,
   "metadata": {},
   "outputs": [],
   "source": [
    "\"Zebra\".upper() > \"aardvark\".upper()"
   ]
  },
  {
   "cell_type": "markdown",
   "metadata": {},
   "source": [
    "## Exercises"
   ]
  },
  {
   "cell_type": "markdown",
   "metadata": {},
   "source": [
    "1. Write a function called *last_char* that takes a string parameter and returns the last letter of that string."
   ]
  },
  {
   "cell_type": "code",
   "execution_count": null,
   "metadata": {},
   "outputs": [],
   "source": [
    "# Type code here\n"
   ]
  },
  {
   "cell_type": "markdown",
   "metadata": {},
   "source": [
    "2. Write a function called *midstring* that takes a string parameter and returns a copy of that string minus its first and last letters. If the string passed in has only has 1 or 2 letters, the function should return the empty string \"\"."
   ]
  },
  {
   "cell_type": "code",
   "execution_count": null,
   "metadata": {},
   "outputs": [],
   "source": [
    "# Type code here\n"
   ]
  },
  {
   "cell_type": "markdown",
   "metadata": {},
   "source": [
    "3. Write a function called *sort_two_strings* that takes two string parameters and returns a single string of both of them in dictionary order, ignoring case. For example, if the strings \"aardvark\" and \"Zebra\" are passed, it should return \"aardvark Zebra\"."
   ]
  },
  {
   "cell_type": "code",
   "execution_count": null,
   "metadata": {},
   "outputs": [],
   "source": [
    "# Type code here\n"
   ]
  },
  {
   "cell_type": "markdown",
   "metadata": {},
   "source": [
    "4. A palindrome is a string that reads the same forward or backward. Write a function called *is_pal* that takes a string parameter and returns True if that string is a palindrome, but returns False otherwise."
   ]
  },
  {
   "cell_type": "code",
   "execution_count": null,
   "metadata": {},
   "outputs": [],
   "source": [
    "# Type code here\n"
   ]
  }
 ],
 "metadata": {
  "kernelspec": {
   "display_name": "Python 3",
   "language": "python",
   "name": "python3"
  },
  "language_info": {
   "codemirror_mode": {
    "name": "ipython",
    "version": 3
   },
   "file_extension": ".py",
   "mimetype": "text/x-python",
   "name": "python",
   "nbconvert_exporter": "python",
   "pygments_lexer": "ipython3",
   "version": "3.8.2"
  }
 },
 "nbformat": 4,
 "nbformat_minor": 4
}
