{
 "cells": [
  {
   "attachments": {},
   "cell_type": "markdown",
   "metadata": {},
   "source": [
    "# Some Context\n",
    "## Algorithms\n",
    "An algorithm is a set of instructions, or a pattern, for processing and manipulating data. It defines a sequence of steps for completing a specific task or solving a problem. It's similar to a recipe, in that it outlines a step-by-step process for achieving a desired outcome. The key characteristic of an algorithm is that it is generalizable, meaning it should work for all cases of a problem, not just a specific instance. \n",
    "\n",
    "For example, imagine creating a program that renames files, the algorithm should work for any file, not just `.xlsx` or `.txt` files. To write an effective algorithm for this task, it's necessary to identify the common pattern among different file extensions in order to rename without creating errors or bugs."
   ]
  },
  {
   "attachments": {},
   "cell_type": "markdown",
   "metadata": {},
   "source": [
    "## Computers\n",
    "Computers have become a ubiquitous part of our lives, but it's important to remember that they are truly remarkable devices. They're not just advanced versions of tools we've been using for centuries, but instead are general-purpose machines that can carry out any computational process as long as it's described as an algorithm. The idea of a programmable machine that can perform any task was first proposed by Charles Babbage in 1837 with his Analytical Engine. It took over a century for the first such machine to be built in 1941, but once the technology and the imagination caught up with the idea, it changed the world.\n",
    "\n",
    "The architecture of modern computers is generally similar and consists of the following basic components:\n",
    "\n",
    "1. The CPU (Central Processing Unit) is the processor that decodes and executes machine language instructions. Today's computers often have multiple processors.\n",
    "2. RAM (Random Access Memory) is not truly random, but rather refers to the ability to access data anywhere in that memory. RAM is volatile, meaning that all data stored there is lost when the computer is turned off.\n",
    "3. Secondary storage devices are where all of the data that you install or save on your computer is stored. This used to include magnetic tapes, floppy disks, and CDs, but now the most common examples are internal hard drives, USB drives, and sometimes external hard drives for backup or large data storage. This type of memory is slower than RAM, but it's not lost when the computer is turned off. When you run a program or open a file, the computer copies the necessary data into RAM for faster access. When you install or save something, a copy is also made on a secondary storage device."
   ]
  },
  {
   "attachments": {},
   "cell_type": "markdown",
   "metadata": {},
   "source": [
    "## Computer Languages\n",
    "Computer languages are a set of instructions and syntax that can be used to communicate with a computer and give it instructions to perform specific tasks. These languages are used to write programs and applications that can run on computers, servers, and other devices. There are many different types of computer languages and each language has its own set of rules, syntax, and structure, and is designed for a specific purpose. Some examples of computer languages include C, C++, Java, Python, JavaScript, and many more.\n",
    "\n",
    "Machine language, also known as machine code or assembly language, is the lowest-level programming language that a computer can understand. It is a set of binary instructions, represented as a series of 1s and 0s, that are directly executed by the computer's central processing unit (CPU). These instructions tell the CPU what operations to perform on data stored in memory.\n",
    "\n",
    "Programming languages, on the other hand, are a higher-level set of instructions that are designed to be more human-readable and easier to write and understand. They use keywords, variables, and other elements that are familiar to programmers, and are not directly executed by the CPU. Instead, a program written in a high-level language must be translated into machine code before it can be executed by the computer. This translation process is typically done by a compiler or interpreter.\n",
    "\n",
    "So, programming languages are used by developers to write programs in a way that is more readable and maintainable for humans, but then the code written in programming languages needs to be translated into machine language so that computer can understand it and execute it.\n",
    "\n",
    "### Compiled vs. Interpreted languages\n",
    "Compiled languages and interpreted languages are different types of programming languages that are used to create software. The main difference between them is how the source code is translated into machine code that can be executed by the computer.\n",
    "\n",
    "Compiled languages are programming languages that are translated into machine code by a compiler. A compiler is a program that reads the source code written in a high-level programming language and converts it into machine code that can be executed by the computer. Once the source code is compiled, it is transformed into an executable file, which can be run directly on the target machine without the need for any further translation. Examples of compiled languages include C, C++, and Fortran.\n",
    "\n",
    "Interpreted languages, on the other hand, are programming languages that are executed by an interpreter. An interpreter is a program that reads the source code line by line and executes the instructions directly, without the need for a separate compilation step. The source code is not translated into an executable file, but it is executed as it is read by the interpreter. Examples of interpreted languages include Python, JavaScript, and Ruby.\n",
    "\n",
    "In summary, Compiled languages are translated into machine code before they can be executed, while interpreted languages are executed directly by an interpreter without the need for a separate compilation step."
   ]
  },
  {
   "attachments": {},
   "cell_type": "markdown",
   "metadata": {},
   "source": [
    "## Computer Programs\n",
    "A computer program is a set of instructions that are executed by a computer to perform a specific task or set of tasks. Programs are written in programming languages, which are a set of instructions and rules for writing software. Programs can range from simple scripts that automate repetitive tasks to complex software applications that can perform a wide range of functions.\n",
    "\n",
    "A computer program is typically made up of one or more source code files that are written in a specific programming language. The source code is then compiled or interpreted by a program that converts it into machine code that can be executed by the computer. Once the program has been translated into machine code, it can be run on a computer to perform the tasks it was designed to do.\n",
    "\n",
    "Computer programs can be classified into different categories such as system software, application software, embedded software, mobile apps, web apps, games, and many more. They can also be developed for different platforms like Windows, Mac, Linux, iOS and Android.\n",
    "\n",
    "In short, A computer program is a set of instructions written in a specific programming language that can be executed by a computer to perform specific tasks."
   ]
  },
  {
   "attachments": {},
   "cell_type": "markdown",
   "metadata": {},
   "source": [
    "## Python\n",
    "Python is a high-level, general-purpose programming language. It was created by Guido van Rossum in 1991 and is now maintained and developed by the Python Software Foundation. Python is designed to be easy to read and write, and its syntax is simple and consistent. It is often compared to other interpreted languages such as Perl, Ruby, and JavaScript.\n",
    "\n",
    "Python is widely used for a variety of tasks such as web development, scientific computing, data analysis, artificial intelligence, and many more. It has a large and active community of developers that contribute to the development and maintenance of the language and its associated libraries.\n",
    "\n",
    "One of the key features of Python is its extensive standard library, which includes modules for a wide range of tasks such as connecting to web servers, reading and writing files, and working with data. There are also many third-party libraries available for Python, which extend its functionality and make it easier to accomplish specific tasks.\n",
    "\n",
    "Python is considered a versatile, high-level and powerful programming language, which makes it a great choice for beginners and experienced programmers alike. It is often used in the field of Data Science, Machine Learning and AI because it has a lot of libraries, modules and frameworks which are very helpful in these fields."
   ]
  },
  {
   "cell_type": "markdown",
   "metadata": {},
   "source": [
    "## Jupyter Notebooks\n",
    "Jupyter notebooks are interactive  computing enviornements that have great utility for testing live code, reading explanatory text, embedding images and videos, and plenty of plotting and data visualization functionality we won't need. You can get a lot more detail on its functionality [here](https://nbviewer.org/github/jupyter/notebook/blob/master/docs/source/examples/Notebook/What%20is%20the%20Jupyter%20Notebook.ipynb).\n",
    "\n",
    "For our purposes, the notebooks will give us one stop place to read and study certain programming concepts while also applying those concepts in designated cells where we can write scripts meant to practice and play.\n",
    "\n",
    "Key things to know:\n",
    "   * Jupyter notebooks can be displayed in a web browser or an IDE that has the right kind of extensions or add-ons to interpret and display notebooks.\n",
    "   * Jupyter notebooks may be connected to a web browser, but that does  not mean its connected to the internet\n",
    "   * When blocks of code in a jupyter notebook, it's important to remember that re-running blocks of codes repeatedly can distort expected outputs. It's a good idea if your results seem out of sync with your expectations to try restarting your kernel and re-running the cells to see if the result is in line with your expectations.\n",
    "\n"
   ]
  },
  {
   "attachments": {},
   "cell_type": "markdown",
   "metadata": {},
   "source": [
    "## Integrated Development Enviornment (IDE) - like VS Code\n",
    "Jupyter notebooks are just a convenient place to practice and read-up on concepts. But when we start building things of substance i.e. the projects, we need a more powerful tool. In this case, I'm recommending the IDE Visual Studio Code.\n",
    "\n",
    "An IDE is to programmers what Microsoft Word is to writers. An IDE typically includes a code editor, a compiler or interpreter, a debugger, and often additional tools such as source code management, version control, and project management. IDEs are designed to make the process of writing, testing, and debugging code more efficient, by providing a single, unified interface for all of the tasks involved in software development. Some popular examples of IDEs are Visual Studio Code, Eclipse, IntelliJ IDEA, and Xcode."
   ]
  },
  {
   "attachments": {},
   "cell_type": "markdown",
   "metadata": {},
   "source": [
    "## Terminals/Command Line Interface (CLI)\n",
    "A terminal, also known as a command-line interface (CLI), is a text-based interface that allows users to interact with a computer by entering commands as text. These commands are typically used to navigate the file system, launch programs, and perform other tasks. Terminals can be found on both desktop and mobile operating systems, and are often preferred by programmers and other power users for their flexibility and efficiency."
   ]
  },
  {
   "attachments": {},
   "cell_type": "markdown",
   "metadata": {},
   "source": [
    "## Version Control (git/github)\n",
    "### Git\n",
    "Version control is a system that keeps track of changes made to a set of files over time, allowing multiple users to collaborate on a project. It allows to roll back to a previous version of the code, see who made a specific change and why, and merge changes made by different users.\n",
    "\n",
    "It also makes it easy to manage different versions of a project, such as different versions for different customers or different stages of development.\n",
    "\n",
    "The most popular version control systems is Git, which is widely used by developers and considered as an industry standard.\n",
    "\n",
    "In summary, version control (git specifically in our case) allows developers to work on different versions of the code in parallel, and it also allows developers to collaborate on the same codebase by managing and merging changes made by multiple users.\n",
    "\n",
    "### Github\n",
    "GitHub is a web-based platform that provides hosting for Git repositories. It is a central location where developers can store, share and collaborate on their code.\n",
    "\n",
    "Git is a distributed version control system, which means that every developer has a full copy of the codebase and its history on their local machine. GitHub provides a centralized, cloud-based version of this repository, which makes it easy for developers to collaborate on the same codebase and share their work with others.\n",
    "\n",
    "GitHub provides a web-based interface that allows users to view the contents of the repository, see the history of changes, and perform other Git-related tasks. It also provides additional features such as issue tracking, pull requests and code review, as well as integrations with other tools such as continuous integration and deployment.\n",
    "\n",
    "In summary, Github is a web-based service that provides hosting for Git repositories, it uses Git for version control, but also provides additional features for collaboration and management of the code."
   ]
  }
 ],
 "metadata": {
  "kernelspec": {
   "display_name": "Python 3",
   "language": "python",
   "name": "python3"
  },
  "language_info": {
   "codemirror_mode": {
    "name": "ipython",
    "version": 3
   },
   "file_extension": ".py",
   "mimetype": "text/x-python",
   "name": "python",
   "nbconvert_exporter": "python",
   "pygments_lexer": "ipython3",
   "version": "3.7.16 (default, Jan  9 2023, 01:23:12) \n[GCC 11.3.0]"
  },
  "vscode": {
   "interpreter": {
    "hash": "2a806d3aeacb674212bb9595bc81b7e00560d028deaf5d893b1185a2f7bac5ac"
   }
  }
 },
 "nbformat": 4,
 "nbformat_minor": 4
}
