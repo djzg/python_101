{
 "cells": [
  {
   "cell_type": "markdown",
   "metadata": {},
   "source": [
    "# Exercise Solutions"
   ]
  },
  {
   "cell_type": "markdown",
   "metadata": {},
   "source": [
    "## Comparison Operators and Logical Operators"
   ]
  },
  {
   "cell_type": "markdown",
   "metadata": {},
   "source": [
    "1. Print the value of 17 < 5."
   ]
  },
  {
   "cell_type": "code",
   "execution_count": null,
   "metadata": {},
   "outputs": [],
   "source": [
    "print(17 < 5)"
   ]
  },
  {
   "cell_type": "markdown",
   "metadata": {},
   "source": [
    "2. Write code that reads a number from the user, assigns it to a variable, and then prints True if that value is greater than 10, but prints False otherwise."
   ]
  },
  {
   "cell_type": "code",
   "execution_count": null,
   "metadata": {},
   "outputs": [],
   "source": [
    "var = float(input())\n",
    "print(var > 10)"
   ]
  },
  {
   "cell_type": "markdown",
   "metadata": {},
   "source": [
    "3. Write code that reads a number from the user, assigns it to a variable, and then prints True if that value is between 50 and 100, but prints False otherwise."
   ]
  },
  {
   "cell_type": "code",
   "execution_count": null,
   "metadata": {},
   "outputs": [],
   "source": [
    "var = float(input())\n",
    "print(var >= 50 and var <= 100)"
   ]
  },
  {
   "cell_type": "markdown",
   "metadata": {},
   "source": [
    "## Conditional Execution"
   ]
  },
  {
   "cell_type": "markdown",
   "metadata": {},
   "source": [
    "1. Write code that reads a number from the user, assigns it to a variable, and then prints \"in range\" if that value is between 50 and 100, but prints \"out of range\" otherwise."
   ]
  },
  {
   "cell_type": "code",
   "execution_count": null,
   "metadata": {},
   "outputs": [],
   "source": [
    "var = float(input())\n",
    "if var >= 50 and var <=100:\n",
    "    print(\"in range\")\n",
    "else:\n",
    "    print(\"out of range\")"
   ]
  },
  {
   "cell_type": "markdown",
   "metadata": {},
   "source": [
    "2. Write code that reads a number from the user, assigns it to a variable, and then prints \"small\" if it's less than 10, prints \"medium\" if it's at least 10 but less than 50, and prints \"large\" if it's at least 50."
   ]
  },
  {
   "cell_type": "code",
   "execution_count": null,
   "metadata": {},
   "outputs": [],
   "source": [
    "var = float(input())\n",
    "if var < 10:\n",
    "    print(\"small\")\n",
    "elif var < 50:\n",
    "    print(\"medium\")\n",
    "else:\n",
    "    print(\"large\")"
   ]
  },
  {
   "cell_type": "markdown",
   "metadata": {},
   "source": [
    "3. Write code that reads an integer from the user and assigns it to a variable. If that integer is a value from 1-5, your program should print out the English word for that number. Otherwise it should print \"input not recognized\"."
   ]
  },
  {
   "cell_type": "code",
   "execution_count": null,
   "metadata": {},
   "outputs": [],
   "source": [
    "var = int(input())\n",
    "\n",
    "if var == 1:\n",
    "    print(\"one\")\n",
    "elif var == 2:\n",
    "    print(\"two\")\n",
    "elif var == 3:\n",
    "    print(\"three\")\n",
    "elif var == 4:\n",
    "    print(\"four\")\n",
    "elif var == 5:\n",
    "    print(\"five\")\n",
    "else:\n",
    "    print(\"input not recognized\")"
   ]
  },
  {
   "cell_type": "markdown",
   "metadata": {},
   "source": [
    "## Iteration"
   ]
  },
  {
   "cell_type": "markdown",
   "metadata": {},
   "source": [
    "1. Write code that reads an integer from the user and prints out the sum of the integers from 1 to that number."
   ]
  },
  {
   "cell_type": "code",
   "execution_count": null,
   "metadata": {},
   "outputs": [],
   "source": [
    "limit = int(input())\n",
    "sum = 0\n",
    "for i in range(1, limit + 1):\n",
    "    sum += i\n",
    "print(sum)"
   ]
  },
  {
   "cell_type": "markdown",
   "metadata": {},
   "source": [
    "2. Write code that reads a string from the user, counts how many characters are in the string, and prints out \"odd\" if that number is odd, but prints \"even\" if that number is even."
   ]
  },
  {
   "cell_type": "code",
   "execution_count": null,
   "metadata": {},
   "outputs": [],
   "source": [
    "my_string = input()\n",
    "count = 0\n",
    "for ch in my_string:\n",
    "    count += 1\n",
    "if count % 2 == 1:\n",
    "    print(\"odd\")\n",
    "else:\n",
    "    print(\"even\")"
   ]
  },
  {
   "cell_type": "markdown",
   "metadata": {},
   "source": [
    "3. Write code that continues reading a string from the user and printing it out until the user enters \"quit\"."
   ]
  },
  {
   "cell_type": "code",
   "execution_count": null,
   "metadata": {},
   "outputs": [],
   "source": [
    "s = input()\n",
    "while s != \"quit\":\n",
    "    print(s)\n",
    "    s = input()"
   ]
  }
 ],
 "metadata": {
  "kernelspec": {
   "display_name": "Python 3",
   "language": "python",
   "name": "python3"
  },
  "language_info": {
   "codemirror_mode": {
    "name": "ipython",
    "version": 3
   },
   "file_extension": ".py",
   "mimetype": "text/x-python",
   "name": "python",
   "nbconvert_exporter": "python",
   "pygments_lexer": "ipython3",
   "version": "3.8.2"
  }
 },
 "nbformat": 4,
 "nbformat_minor": 4
}
