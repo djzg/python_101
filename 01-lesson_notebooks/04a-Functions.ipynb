{
 "cells": [
  {
   "cell_type": "markdown",
   "metadata": {},
   "source": [
    "# Functions"
   ]
  },
  {
   "cell_type": "markdown",
   "metadata": {},
   "source": [
    "## Function Calls"
   ]
  },
  {
   "cell_type": "markdown",
   "metadata": {},
   "source": [
    "We've already been using function calls to print values, read input, get the type of a value or variable, cast from one type to another, and to create ranges. A function call consists of the name of a function followed by a pair of parentheses, which contain **any** arguments for the function. A function carries out some task and may or may **not** return a value when it's done.\n",
    "\n",
    "    int(-12.5)\n",
    "    \n",
    "In the above function call, the name of the function is *int*. It's being passed one argument, the number -12.5. In this example, the int function would return the integer -12 as its **return value**.\n",
    "\n",
    "    print(\"num orders =\", num_orders)\n",
    "    \n",
    "In the above function call, the name of the function is *print*. It's being passed two arguments, the string \"num orders =\" and the variable *num_orders*. The print function doesn't have a return value (technically it does, but it's a special value called None).\n",
    "\n",
    "    print(float(input()))\n",
    "    \n",
    "As we've already seen, you can chain function calls together. The above line would read input from the user, cast that input to a float, and then print out the result.\n",
    "\n",
    "When you make a function call that returns a value, make sure you don't accidentally \"drop\" it. Most of the time you would either assign the return value to a variable or have the function call be part of a larger expression that uses the return value (for example chaining function calls)."
   ]
  },
  {
   "cell_type": "markdown",
   "metadata": {},
   "source": [
    "## Function definitions"
   ]
  },
  {
   "cell_type": "markdown",
   "metadata": {},
   "source": [
    "To define a function, you use the \"def\" keyword. For example, we could define a function that adds together three numbers as in the example below. Try typing \"sum_three(-5, 189, 12)\" below the function  and hit &lt;Shift> + &lt;Enter>"
   ]
  },
  {
   "cell_type": "code",
   "execution_count": null,
   "metadata": {},
   "outputs": [],
   "source": [
    "def sum_three(num1, num2, num3):  # The first line is the \"function header\"    \n",
    "    sum = num1 + num2 + num3    \n",
    "    print(\"num1 = \", num1)\n",
    "    print(\"num2 = \", num2)\n",
    "    print(\"num3 = \", num3)\n",
    "    return sum\n",
    "\n",
    "# Type here"
   ]
  },
  {
   "cell_type": "markdown",
   "metadata": {},
   "source": [
    "In the above definition, the name of the function is sum_three. The rules for function names are the same as for variable names. The parameters of the function are num1, num2, and num3. When you call a function, the arguments in the function call are matched up (in order) with the parameters given in the function definition, so if we called the function like this:\n",
    "\n",
    "    result = sum_three(-5, 189, 12)\n",
    "    \n",
    "Then -5 is assigned to num1, 189 is assigned to num2, and 12 is assigned to num3. When the computer is executing the program and it reaches a function call, then it jumps to the function definition and executes the code there. Once the function is done, the computer returns back to the function call and continues from there. A function is done when the computer either reaches the end of the code in the definition, or it reaches a return statement, whichever happens first. A return statement doesn't have to go at the end of the function, and you can even have multiple return statements in a function. As soon as the code executes any return statement, it immediately ends the function and returns execution (and any return value) back to the function call. If your function doesn't have a return value, you can still use the return keyword if you want to end the function before reaching the end of the definition for some reason. You can see how this works in the first function below."
   ]
  },
  {
   "cell_type": "code",
   "execution_count": null,
   "metadata": {},
   "outputs": [],
   "source": [
    "def print_choice_v1(num):    \n",
    "    if num == 1:        \n",
    "        print(\"one\")        \n",
    "        return   # immediately ends the function    \n",
    "    print(\"not one\")\n",
    "\n",
    "    \n",
    "def print_choice_v2(num):    \n",
    "    if num == 1:        \n",
    "        print(\"one\")    \n",
    "    else:        \n",
    "        print(\"not one\")"
   ]
  },
  {
   "cell_type": "code",
   "execution_count": null,
   "metadata": {},
   "outputs": [],
   "source": [
    "# Try playing around with the function above here\n"
   ]
  },
  {
   "cell_type": "markdown",
   "metadata": {},
   "source": [
    "However the more normal way to write that particular example would be the second version. You can see that they both give the same output for the same input.\n",
    "\n",
    "The sum_three function could also be defined like this:"
   ]
  },
  {
   "cell_type": "code",
   "execution_count": null,
   "metadata": {},
   "outputs": [],
   "source": [
    "def sum(num_1, num_2, num_3):    \n",
    "    return num_1 + num_2 + num_3"
   ]
  },
  {
   "cell_type": "markdown",
   "metadata": {},
   "source": [
    "This definition is more concise and probably preferable for this function, but in cases where you have a long and/or complicated expression, splitting it up into separate steps can make it easier to read and debug.\n",
    "\n",
    "If a function doesn't have any parameters, you still need the parentheses following the function name:\n",
    "\n",
    "    def print_greeting():\n",
    "        print(\"howdy\")\n",
    "        \n",
    "We would call this function like so:\n",
    "\n",
    "    print_greeting()\n",
    "    \n",
    "A function must be defined somewhere above the place where it's called. That is, you cannot have the function call appear earlier in the file than the function definition. Otherwise when the computer is executing your program it will see the function call before it knows what that function does."
   ]
  },
  {
   "cell_type": "markdown",
   "metadata": {},
   "source": [
    "## Function Scope"
   ]
  },
  {
   "cell_type": "markdown",
   "metadata": {},
   "source": [
    "Variables in a function definition only exist while that function is executing. When the function is done, those variables go away. Such variables have **function scope**. If a function uses a variable name that is already being used in some other part of the program, it is a separate variable - changing the one in the function does not change any other variables of that name. If you run the following code:"
   ]
  },
  {
   "cell_type": "code",
   "execution_count": null,
   "metadata": {},
   "outputs": [],
   "source": [
    "def func():    \n",
    "    num = 12    \n",
    "    print(num)\n",
    "\n",
    "num = 5\n",
    "func()\n",
    "print(num)"
   ]
  },
  {
   "cell_type": "markdown",
   "metadata": {},
   "source": [
    "Then the program will start at the line \"num = 5\", which assigns the value 5 to a variable called *num*. Next is the function call \"func()\". At this point execution jumps to the function definition, which assigns the value 12 to a variable called *num*, but this is a separate variable, which has function scope. Assigning 12 to it does not affect the value of the other variable named num. Next, the function prints out the value of the local *num* variable, which is 12. Having reached the end of the function definition, execution returns back to the function call. The next line prints out the value of the original *num* variable, which is still 5."
   ]
  },
  {
   "cell_type": "markdown",
   "metadata": {},
   "source": [
    "## Default arguments"
   ]
  },
  {
   "cell_type": "markdown",
   "metadata": {},
   "source": [
    "It's possible to give a parameter a default value that it will have if no value is passed for it in the function call. The syntax looks like you're assigning a value to that parameter, but if the function call does pass a value for that parameter, then the default argument is not used. Here's a simple example:\n",
    "\n",
    "    def sum(num_1, num_2, num_3=0):\n",
    "        return num_1 + num_2 + num_3\n",
    "        \n",
    "We've made zero the default argument for num_3. This allows us to call *sum* with either two or three arguments.\n",
    "\n",
    "Parameters with default arguments must all go at the end of the parameter list. In the *sum* function, we can't give num_1 a default argument and then not give num_2 and num_3 default arguments."
   ]
  },
  {
   "cell_type": "markdown",
   "metadata": {},
   "source": [
    "## Changing the Value of a Parameter"
   ]
  },
  {
   "cell_type": "markdown",
   "metadata": {},
   "source": [
    "If we pass a variable to a function and the function changes that parameter, what happens to the original variable that was passed? Does it change because the parameter in the function was changed? Let's try it and see:"
   ]
  },
  {
   "cell_type": "code",
   "execution_count": null,
   "metadata": {},
   "outputs": [],
   "source": [
    "def square_val(val):    \n",
    "    val = val * val    \n",
    "    print(val)\n",
    "\n",
    "num = 8\n",
    "square_val(num)\n",
    "print(num)"
   ]
  },
  {
   "cell_type": "markdown",
   "metadata": {},
   "source": [
    "Here the program starts by assigning 8 to num. Next it calls the function *square_val*, passing *num* as an argument. Now execution jumps to the function definition, and the argument *num* is matched with the parameter *val*, so now *val* and *num* refer to the same value. Next, *val* is assigned the value of *val* times itself. Then the function prints out the value of *val*, which is 64. Since the function has finished, execution returns to the function call. Next the value of *num* is printed out, which is 8. We can see that even though *val* and *num* referred to the same value, changing *val* did not change *num*. This is not because of scope. We'll discuss the reason behind it in a later module. What if we want *num* to change? We can accomplish that like so:"
   ]
  },
  {
   "cell_type": "code",
   "execution_count": null,
   "metadata": {},
   "outputs": [],
   "source": [
    "def square_val(val):    \n",
    "    val = val * val    \n",
    "    print(val)    \n",
    "    return val\n",
    "\n",
    "num = 8  \n",
    "num = square_val(num)\n",
    "print(num)"
   ]
  },
  {
   "cell_type": "markdown",
   "metadata": {},
   "source": [
    "In this version we changed two things:\n",
    "\n",
    " 1. We have the function return the altered value.\n",
    " 2. When we call the function, we store the result of the function call (its return value) in *num*.\n",
    "\n",
    "Now when we run the code, we see that num is updated to the square of its previous value."
   ]
  },
  {
   "cell_type": "markdown",
   "metadata": {},
   "source": [
    "## Docstrings"
   ]
  },
  {
   "cell_type": "markdown",
   "metadata": {},
   "source": [
    "A docstring is a special type of string you should use to help document your functions. A docstring gives a description of the function's purpose, with a triple quotation mark at the beginning and end. It goes on the first indented line of the function."
   ]
  },
  {
   "cell_type": "code",
   "execution_count": null,
   "metadata": {},
   "outputs": [],
   "source": [
    "def area_of_circle(radius):    \n",
    "    \"\"\"Returns the area of the circle with the given radius.\"\"\"    \n",
    "    return 3.14159 * radius ** 2\n",
    "\n",
    "#Unlike regular strings, a docstring can go across multiple lines, \n",
    "#in which case the closing triple quote should go on its own line.\n",
    "def rando(num_digits):    \n",
    "    \"\"\"Returns a cryptographically secure pseudorandom number with the number \n",
    "    of digits specified by the argument.*\n",
    "    (*Not really, this is just an example of a docstring)\n",
    "    \"\"\"\n",
    "\n",
    "#You can also format it this way...\n",
    "def rando(num_digits):    \n",
    "    \"\"\"\n",
    "    Returns a cryptographically secure pseudorandom number with the number \n",
    "    of digits specified by the argument.*\n",
    "    (*Not really, this is just an example of a docstring)  \n",
    "    \"\"\""
   ]
  },
  {
   "cell_type": "markdown",
   "metadata": {},
   "source": [
    "Python has a built-in help function that will print out the description you provided in the docstring:\n",
    "    \n",
    "    help(area_of_circle)\n",
    "    \n",
    "There also exist third-party tools that will read and display docstrings in various formats."
   ]
  },
  {
   "cell_type": "markdown",
   "metadata": {},
   "source": [
    "## Stack Traces"
   ]
  },
  {
   "cell_type": "markdown",
   "metadata": {},
   "source": [
    "When a Python program crashes, the error messages will include a stack trace that tells you which functions were active at the time. If function A calls function B, which calls function C, and if there is an error in C that crashes the program, then the stack trace that is printed out will include which line of code we were on in functions A, B, and C. Here is an example:"
   ]
  },
  {
   "cell_type": "code",
   "execution_count": null,
   "metadata": {},
   "outputs": [],
   "source": [
    "def func_A():    \n",
    "    num_A = -7    \n",
    "    result_A = func_B(num_A)    \n",
    "    return result_A\n",
    "  \n",
    "def func_B(param_B):    \n",
    "    num_B = 3    \n",
    "    if param_B < 0:        \n",
    "        func_C()    \n",
    "    return param_B * num_B\n",
    "\n",
    "def func_C():    \n",
    "    num_C = not_a_var"
   ]
  },
  {
   "cell_type": "markdown",
   "metadata": {},
   "source": [
    "So now if we try to run this program by calling it,"
   ]
  },
  {
   "cell_type": "code",
   "execution_count": null,
   "metadata": {},
   "outputs": [],
   "source": [
    "func_A()"
   ]
  },
  {
   "cell_type": "markdown",
   "metadata": {},
   "source": [
    "Then because func_C tries to use a nonexistent variable, the program crashes and gives us the stack trace.\n",
    "\n",
    "This can be helpful when trying to figure out exactly what sequence of events caused a program to crash."
   ]
  },
  {
   "cell_type": "markdown",
   "metadata": {},
   "source": [
    "## Exercises"
   ]
  },
  {
   "cell_type": "markdown",
   "metadata": {},
   "source": [
    "1. Write a function that takes a numeric parameter and returns twice that number. Write a print statement that calls your function with the number 5 and prints the function's return value."
   ]
  },
  {
   "cell_type": "code",
   "execution_count": null,
   "metadata": {},
   "outputs": [],
   "source": [
    "# Type code here\n"
   ]
  },
  {
   "cell_type": "markdown",
   "metadata": {},
   "source": [
    "2. Write a function that takes two string parameters and returns the string formed by concatenating those two strings together. Write a print statement that calls your function with the values \"hello \" and \"world\" and prints the function's return value."
   ]
  },
  {
   "cell_type": "code",
   "execution_count": null,
   "metadata": {},
   "outputs": [],
   "source": [
    "# Type code here\n"
   ]
  },
  {
   "cell_type": "markdown",
   "metadata": {},
   "source": [
    "3. Write a function named is_even that takes an integer parameter and returns a bool value - True if the integer is even, and False if the integer is odd."
   ]
  },
  {
   "cell_type": "code",
   "execution_count": null,
   "metadata": {},
   "outputs": [],
   "source": [
    "# Type code here\n"
   ]
  },
  {
   "cell_type": "code",
   "execution_count": null,
   "metadata": {},
   "outputs": [],
   "source": []
  }
 ],
 "metadata": {
  "kernelspec": {
   "display_name": "Python 3",
   "language": "python",
   "name": "python3"
  },
  "language_info": {
   "codemirror_mode": {
    "name": "ipython",
    "version": 3
   },
   "file_extension": ".py",
   "mimetype": "text/x-python",
   "name": "python",
   "nbconvert_exporter": "python",
   "pygments_lexer": "ipython3",
   "version": "3.8.2"
  }
 },
 "nbformat": 4,
 "nbformat_minor": 4
}
