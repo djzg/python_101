{
 "cells": [
  {
   "cell_type": "markdown",
   "metadata": {},
   "source": [
    "# Tuples and Mutability vs. Immutability"
   ]
  },
  {
   "cell_type": "markdown",
   "metadata": {},
   "source": [
    "## Tuples"
   ]
  },
  {
   "cell_type": "markdown",
   "metadata": {},
   "source": [
    "Tuples are almost the same thing as a list. There are two minor differences having to do with syntax, and one more significant difference. Let's talk about the syntax first. The first difference is that we use square brackets to create a new list, but we use parentheses to create a new tuple.\n",
    "\n",
    "The other syntax difference is with tuples that contain only one value. In order for Python to know that it's a tuple, you have to include a trailing comma."
   ]
  },
  {
   "cell_type": "code",
   "execution_count": null,
   "metadata": {},
   "outputs": [],
   "source": [
    "some_primes = (2,3,5,7,11,13,17,19,23,27,31)\n",
    "some_names = (\"Groucho\",\"Harpo\",\"Chico\",\"Zeppo\",\"Karl\")\n",
    "some_stuff = (98, \"Fido\", -4.925, (\"phantom\", \"tollbooth\"))\n",
    "zero = ()   # The empty tuple\n",
    "\n",
    "one = (\"just me\")   # not a tuple\n",
    "one = (\"just me\",)  # this is a tuple\n",
    "\n",
    "numbers = (3,2,1)"
   ]
  },
  {
   "cell_type": "markdown",
   "metadata": {},
   "source": [
    "Although parentheses are used for creating a new tuple, we still use square brackets when indexing or slicing a tuple.\n",
    "\n",
    "Now let's look at the big difference."
   ]
  },
  {
   "cell_type": "markdown",
   "metadata": {},
   "source": [
    "## Mutability vs. Immutability"
   ]
  },
  {
   "cell_type": "markdown",
   "metadata": {},
   "source": [
    "The big important difference between lists and tuples is that lists are mutable, but tuples are immutable. Put more simply, you can change a list, but you can't change a tuple. So far we've seen ways to create new lists based on old lists, but we haven't looked at ways we can change an existing list, with one exception. The sort method doesn't create a new sorted version of the list - it rearranges the existing list into sorted order."
   ]
  },
  {
   "cell_type": "code",
   "execution_count": null,
   "metadata": {},
   "outputs": [],
   "source": [
    "numbers.sort()"
   ]
  },
  {
   "cell_type": "markdown",
   "metadata": {},
   "source": [
    "We can't call sort() on  tuples because they're immutable."
   ]
  },
  {
   "cell_type": "markdown",
   "metadata": {},
   "source": [
    "### Mutating a List"
   ]
  },
  {
   "cell_type": "markdown",
   "metadata": {},
   "source": [
    "How else can we mutate (modify) an existing list? Here are some lists we can demonstrate on."
   ]
  },
  {
   "cell_type": "code",
   "execution_count": null,
   "metadata": {},
   "outputs": [],
   "source": [
    "members = [\"Tommy\", \"Johnny\", \"Joey\", \"Dee Dee\"]\n",
    "\n",
    "birds = [\"starling\", \"blue jay\", \"mockingbird\", \"ostrich\", \"cuckoo\"]"
   ]
  },
  {
   "cell_type": "markdown",
   "metadata": {},
   "source": [
    "We can assign a new value to an existing element of a list like this:"
   ]
  },
  {
   "cell_type": "code",
   "execution_count": null,
   "metadata": {},
   "outputs": [],
   "source": [
    "members\n",
    "members[0] = \"Marky\"  # using indexing to mutate a list\n",
    "members"
   ]
  },
  {
   "cell_type": "markdown",
   "metadata": {},
   "source": [
    "We can also put a slice on the left side of the assignment. In this case the value on the right must be of an iterable type."
   ]
  },
  {
   "cell_type": "code",
   "execution_count": null,
   "metadata": {},
   "outputs": [],
   "source": [
    "birds[1:3] = [\"robin\", \"chickadee\"]  # using slicing to mutate a list\n",
    "birds"
   ]
  },
  {
   "cell_type": "markdown",
   "metadata": {},
   "source": [
    "The number of elements being assigned can be different than the size of the slice being replaced."
   ]
  },
  {
   "cell_type": "code",
   "execution_count": null,
   "metadata": {},
   "outputs": [],
   "source": [
    "birds[1:3] = [\"hummingbird\", \"wren\", \"emu\", \"penguin\"]\n",
    "birds"
   ]
  },
  {
   "cell_type": "code",
   "execution_count": null,
   "metadata": {},
   "outputs": [],
   "source": [
    "birds[3:6] = [\"cassowary\"]\n",
    "birds"
   ]
  },
  {
   "cell_type": "code",
   "execution_count": null,
   "metadata": {},
   "outputs": [],
   "source": [
    "birds[1:1] = [\"kiwi\", \"big bird\"]\n",
    "birds"
   ]
  },
  {
   "cell_type": "code",
   "execution_count": null,
   "metadata": {},
   "outputs": [],
   "source": [
    "birds[2:3] = []\n",
    "birds"
   ]
  },
  {
   "cell_type": "markdown",
   "metadata": {},
   "source": [
    "Notice that the slice \"birds[1:1]\" is empty, since a slice goes up to the second index, but doesn't include it.\n",
    "\n",
    "The slice \"birds[:]\" would create a slice of the entire list - that is, it would create a copy of the list, which can also be done using *list()*:"
   ]
  },
  {
   "cell_type": "code",
   "execution_count": null,
   "metadata": {},
   "outputs": [],
   "source": [
    "birds_copy_1 = birds[:]\n",
    "birds_copy_2 = list(birds)"
   ]
  },
  {
   "cell_type": "markdown",
   "metadata": {},
   "source": [
    "We can also append items to the end of a list using **append**, and delete items from a list using **del** (notice that append uses method notation, but del uses operator notation)."
   ]
  },
  {
   "cell_type": "code",
   "execution_count": null,
   "metadata": {},
   "outputs": [],
   "source": [
    "vocab_words = []\n",
    "vocab_words.append(\"usagi\")\n",
    "vocab_words.append(\"inazuma\")\n",
    "vocab_words.append(\"hebi\")\n",
    "vocab_words.append(\"kitsune\")\n",
    "vocab_words"
   ]
  },
  {
   "cell_type": "code",
   "execution_count": null,
   "metadata": {},
   "outputs": [],
   "source": [
    "del vocab_words[2]\n",
    "vocab_words"
   ]
  },
  {
   "cell_type": "markdown",
   "metadata": {},
   "source": [
    "### What about tuples?"
   ]
  },
  {
   "cell_type": "markdown",
   "metadata": {},
   "source": [
    "None of these assignments will work with tuples because they cannot be mutated. But if tuples are essentially lists that we can't change, why use them at all? One reason is that there are times when an immutable type is required. For example, only immutable types can be used as keys in **dictionaries**, another way of storing and manipulating data that we'll talk about soon. Another reason is that if the elements shouldn't get changed, using a tuple instead of a list makes sure that won't happen by accident."
   ]
  },
  {
   "cell_type": "markdown",
   "metadata": {},
   "source": [
    "### Immutable Collections of Mutable Objects"
   ]
  },
  {
   "cell_type": "markdown",
   "metadata": {},
   "source": [
    "If you have a tuple that contains mutable objects, the tuple itself is immutable because you cannot change which objects it contains, however the mutable objects it contains can still be mutated."
   ]
  },
  {
   "cell_type": "markdown",
   "metadata": {},
   "source": [
    "### Mutability and Immutability of Function Arguments"
   ]
  },
  {
   "cell_type": "markdown",
   "metadata": {},
   "source": [
    "In the page on functions we saw that changing a parameter in a function did not change the value of the variable that was passed in the function call, and said we'd discuss the reason in a later module. The reason is because the variable we passed referred to an immutable type. Integers, like tuples, are immutable and cannot be changed. In fact, lists are the **only** mutable type we've looked at so far - all the others we've seen are immutable (objects of user-defined classes, which we looked at in module 5, are also mutable). If a variable refers to a list, and we pass that list to a function, then the function can change the actual list that was passed."
   ]
  },
  {
   "cell_type": "code",
   "execution_count": null,
   "metadata": {},
   "outputs": [],
   "source": [
    "def square_val(val):    \n",
    "    val[0] = val[0] * val[0]    \n",
    "    print(val)\n",
    "\n",
    "num_list = [8]\n",
    "square_val(num_list)\n",
    "print(num_list)"
   ]
  },
  {
   "cell_type": "markdown",
   "metadata": {},
   "source": [
    "Here we see that the variable *num_list* got changed by the function we passed it to. The function could have changed the list in other ways such as adding or removing elements, but I wanted to show an example very similar to the one I showed in the page on functions, only using a list instead of an integer.\n",
    "\n",
    "You might have an objection at this point. How can ints, floats, bools and strings be immutable? It seems like we've changed values of those types before. We'll take a look at this in the next section, which talks about object references and identity."
   ]
  },
  {
   "cell_type": "markdown",
   "metadata": {},
   "source": [
    "### Mutable Default Arguments"
   ]
  },
  {
   "cell_type": "markdown",
   "metadata": {},
   "source": [
    "**Beware of this gotcha**: In Python, if you use a mutable value as a default argument, a new object won't be created every time the function is called.  Instead, a new object will be created the first time the function is called without an argument, and **that** same object will be used for later calls to the function (that don't have an argument).  So if you have a list as a default argument, the same list would be used every time the function is called without that argument, which is probably not what you would expect or want.  For example:"
   ]
  },
  {
   "cell_type": "code",
   "execution_count": null,
   "metadata": {},
   "outputs": [],
   "source": [
    "def some_func(my_list=[]):\n",
    "    my_list.append(1)\n",
    "    return my_list"
   ]
  },
  {
   "cell_type": "markdown",
   "metadata": {},
   "source": [
    "The first time you call it without an argument, it will return [1].  The next time you call it without an argument, it will return [1, 1], then [1, 1, 1], etc.  In order to avoid this behavior, do the following instead:|"
   ]
  },
  {
   "cell_type": "code",
   "execution_count": null,
   "metadata": {},
   "outputs": [],
   "source": [
    "def some_func(my_list=None):\n",
    "    if my_list is None:\n",
    "        my_list = []\n",
    "    my_list.append(1)\n",
    "    return my_list"
   ]
  },
  {
   "cell_type": "markdown",
   "metadata": {},
   "source": [
    "## Exercises"
   ]
  },
  {
   "cell_type": "markdown",
   "metadata": {},
   "source": [
    "1. Does the following program contradict the idea that tuples are immutable? Why or why not?\n",
    "    \n",
    "       def tuple_madness(tup):\n",
    "       return tup[1:]"
   ]
  },
  {
   "cell_type": "markdown",
   "metadata": {},
   "source": [
    "2. Write a function named *insert_front* that takes as a parameter a list and a value to add at the front of the list. It should not return anything - it should mutate the original list. For example, if the arguments passed to the function are [9, -55, 37] and \"bob\", then after calling the function, the list should now be [\"bob\", 9, -55, 37]."
   ]
  },
  {
   "cell_type": "code",
   "execution_count": null,
   "metadata": {},
   "outputs": [],
   "source": [
    "# Type code here\n"
   ]
  },
  {
   "cell_type": "markdown",
   "metadata": {},
   "source": [
    "3. Write a function named *delete_last* that takes as a parameter a list and removes the last element from that list. It should not return anything - it should mutate the original list. For example, if the list passed to the function is [7, \"joe\", \"apple\", 9.81, False], then after calling the function, the list should be [7, \"joe\", \"apple\", 9.81]."
   ]
  },
  {
   "cell_type": "code",
   "execution_count": null,
   "metadata": {},
   "outputs": [],
   "source": [
    "# Type code here\n"
   ]
  }
 ],
 "metadata": {
  "kernelspec": {
   "display_name": "Python 3",
   "language": "python",
   "name": "python3"
  },
  "language_info": {
   "codemirror_mode": {
    "name": "ipython",
    "version": 3
   },
   "file_extension": ".py",
   "mimetype": "text/x-python",
   "name": "python",
   "nbconvert_exporter": "python",
   "pygments_lexer": "ipython3",
   "version": "3.8.2"
  }
 },
 "nbformat": 4,
 "nbformat_minor": 4
}
