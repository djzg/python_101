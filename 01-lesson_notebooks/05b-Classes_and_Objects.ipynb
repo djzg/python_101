{
 "cells": [
  {
   "cell_type": "markdown",
   "metadata": {},
   "source": [
    "# Classes and Objects"
   ]
  },
  {
   "cell_type": "markdown",
   "metadata": {},
   "source": [
    "## Introduction"
   ]
  },
  {
   "cell_type": "markdown",
   "metadata": {},
   "source": [
    "Here's a simple example class:"
   ]
  },
  {
   "cell_type": "code",
   "execution_count": null,
   "metadata": {},
   "outputs": [],
   "source": [
    "class Pet:\n",
    "    \"\"\"\n",
    "    Represents a pet that has a species and a name.\n",
    "    \"\"\"\n",
    "\n",
    "    def __init__(self, species, name):\n",
    "        \"\"\"\n",
    "        Creates a new Pet with the specified species and name.\n",
    "        \"\"\"\n",
    "        self.species = species\n",
    "        self.name = name"
   ]
  },
  {
   "cell_type": "markdown",
   "metadata": {},
   "source": [
    "The **class** keyword is used to define a class. The name of a class should start with a capital letter. Classes should have a docstring that describes their purpose and any additional information someone might need to know when using the class. Functions that are part of a class are often referred to as **methods**. This Pet class only has a single method with the special name \\_\\_init\\_\\_ (two underscores on either side). This method creates a Pet with whatever species and name you passed to that method. The species and name are the **data members** (or fields or attributes) of the Pet class. The special parameter **self** refers to the object itself. You don't call the \\_\\_init\\_\\_ method by name - instead you use the name of the class. You also don't pass an argument for self - that's done automatically for you. Let's create a couple of Pets:\n",
    "\n",
    "    pet_1 = Pet(\"capybara\", \"Beatrice\")\n",
    "    pet_2 = Pet(\"kangaroo\", \"Joey\")\n",
    "\n",
    "Each of these lines creates a new Pet **object**. The Pet class is just a general blueprint for Pets. To create a specific Pet object, we use the name of the class as shown above. This automatically calls the \\_\\_init\\_\\_ method. An object is sometimes referred to as an \"instance\" of a class, and creating an object as \"instantiating\" a class. Once we've created an object, we can access its attributes using dot notation:\n",
    "\n",
    "    print(pet_1.species)\n",
    "    print(pet_1.name)\n",
    "\n",
    "We would also use dot notation to call an object's methods, but our Pet class doesn't have any besides \\_\\_init\\_\\_, so let's look at another example:"
   ]
  },
  {
   "cell_type": "code",
   "execution_count": null,
   "metadata": {},
   "outputs": [],
   "source": [
    "class Rectangle:    \n",
    "    \"\"\"    \n",
    "    Represents a two-dimensional rectangle with methods to calculate its    volume and surface area.    \n",
    "    \"\"\"    \n",
    "    \n",
    "    def __init__(self, width, height):        \n",
    "        \"\"\"\n",
    "        Creates a Rectangle object with the specified width and height.\n",
    "        \"\"\"\n",
    "        self.width = width       \n",
    "        self.height = height    \n",
    "  \n",
    "    def area(self):        \n",
    "        \"\"\"\n",
    "        Returns the area of the rectangle.\n",
    "        \"\"\"        \n",
    "        return self.width * self.height    \n",
    "  \n",
    "    def perimeter(self):        \n",
    "        \"\"\"\n",
    "        Returns the perimeter of the rectangle.\n",
    "        \"\"\"        \n",
    "        return 2*self.width + 2*self.height"
   ]
  },
  {
   "cell_type": "markdown",
   "metadata": {},
   "source": [
    "Notice that the area and perimeter methods have only the self parameter. They don't need to be passed the width or height, because they are already part of the object, and can be accessed via the self parameter. Now that we've defined the Rectangle class, here's an example of using it:\n",
    "\n",
    "    rect = Rectangle(2.5, 3)\n",
    "    print(\"area = \", rect.area())\n",
    "    print(\"perimeter = \", rect.perimeter())"
   ]
  },
  {
   "cell_type": "markdown",
   "metadata": {},
   "source": [
    "## How do you know what to put in a class?"
   ]
  },
  {
   "cell_type": "markdown",
   "metadata": {},
   "source": [
    "When designing a class, we need to decide what are the relevant features, for our purposes, of the thing we're representing. That helps us figure out what data and functions the class should have. For example, if what we're concerned with is the selling of cars, then price would be one of the relevant features, but if we're only concerned with the driving of cars, then it wouldn't be."
   ]
  },
  {
   "cell_type": "markdown",
   "metadata": {},
   "source": [
    "## \"Private\" class members"
   ]
  },
  {
   "cell_type": "markdown",
   "metadata": {},
   "source": [
    "Some languages have a keyword (\"private\" in Java and C++) that means a certain class data member or method can't be accessed from outside the class. The methods that are part of the class can still access it, but not external code that uses the class. Python does not have such a keyword. Instead, it has the convention that any data member or method whose name begins with an underscore should be treated as private even though the language doesn't enforce it.\n",
    "\n",
    "Here's an example of a bank account class that has private class variables:"
   ]
  },
  {
   "cell_type": "code",
   "execution_count": null,
   "metadata": {},
   "outputs": [],
   "source": [
    "class BankAccount:    \n",
    "    \"\"\"    \n",
    "    Represents a bank account that the user can deposit money to and    withdraw money from.    \n",
    "    \"\"\"\n",
    "    \n",
    "    def __init__(self, account_ID, balance):        \n",
    "        \"\"\"\n",
    "        Creates a bank account object with an account ID and balance.\n",
    "        \"\"\"        \n",
    "        self._account_ID = account_ID        \n",
    "        self._balance = balance    \n",
    "    \n",
    "    def get_account_ID(self):        \n",
    "        \"\"\"\n",
    "        Returns the account ID.\n",
    "        \"\"\"        \n",
    "        return self._account_ID    \n",
    "    \n",
    "    def set_account_ID(self, new_ID):        \n",
    "        \"\"\"\n",
    "        Sets the account ID to a new value.\n",
    "        \"\"\"        \n",
    "        self._account_ID = new_ID    \n",
    "  \n",
    "    def get_balance(self):        \n",
    "        \"\"\"\n",
    "        Returns the current balance.\n",
    "        \"\"\"        \n",
    "        return self._balance    \n",
    "  \n",
    "    def deposit(self, amount):        \n",
    "        \"\"\"\n",
    "        Deposits the specified amount into the account.\n",
    "        \"\"\"        \n",
    "        self._balance += amount    \n",
    "  \n",
    "    def withdraw(self, amount):        \n",
    "        \"\"\"\n",
    "        Withdraws the specified amount from the account.\n",
    "        \"\"\"        \n",
    "        self._balance -= amount"
   ]
  },
  {
   "cell_type": "markdown",
   "metadata": {},
   "source": [
    "Notice that for class names, instead of separating words with underscores (\"snake case\"), we start each new word with a capital letter (\"camel case\"). Here's an example of using the BankAccount class:\n",
    "\n",
    "    account_1 = BankAccount(\"235349\", 730.29)\n",
    "    print(\"account ID =\", account_1.get_account_ID())\n",
    "    account_1.set_account_ID(\"983341\")\n",
    "    print(\"account ID =\", account_1.get_account_ID())\n",
    "    print(\"balance =\", account_1.get_balance())\n",
    "    account_1.deposit(200.11)\n",
    "    print(\"balance =\", account_1.get_balance())\n",
    "    account_1.withdraw(500.00)\n",
    "    print(\"balance =\", account_1.get_balance())\n",
    "    \n",
    "If we want for other code to be able to access a private data member, we need to provide get and/or set methods. A get method just returns the current value of the corresponding data member. A set method takes a parameter and just sets the corresponding data member to the value of the parameter. The normal naming convention is \"get_\" or \"set_\" followed by the name of the corresponding data member. For the account ID we provided both get and set methods. For the balance, we only provided a get method, since the balance is changed via the deposit and withdraw methods.\n",
    "\n",
    "You might wonder why we would want to have private data members if it means writing more methods. The reason is that it allows us to control access to the data members. If we don't want a data member to be accessed, we can just not write get and/or set methods for it. Or if a data member should only be set to a certain range of values, then we can check for that in the set method. If a data member is public, then it can be changed to anything from anywhere, which can make your program logic harder to understand and debug. Controlling access to data members this way is referred to as **information hiding** (or data hiding).\n",
    "\n",
    "Information hiding is important because it allows you to control how certain parts of the class are accessed.  It allows you to separate interface (the names and expected parameters of any public functions) from implementation (the definitions of those functions, and also any private data members or private functions).  Making that distinction makes it easier to modify the class later on.  If you allow the user to directly access any part of the class, then some users' code will end up depending on specific details of the implementation, which means that if you change the implementation later, you'll break any code that depends on it.  It makes code much more modular if you provide a defined interface.  The specific implementation details can then be allowed to change as long as the interface remains the same. \n",
    "\n",
    "In addition to private data members, we can also indicate that methods are private in the same way. The reason we would make a method private is if it's just meant for internal use by the class and not part of the way we expect users to interact with the class. An example of this would be if we had a Fraction class and we wanted the Fractions to always be in reduced form. To accomplish this, we could have a greatest_common_divisor() function that can be used within the class. However, we wouldn't normally expect users to interact with a Fraction object by asking it to find the gcd of two integers - we expect them to do more explicitly Fraction-y things, like printing the Fraction or multiplying it by another Fraction. Finding the gcd of two integers is an implementation detail that can be \"hidden\" from the users."
   ]
  },
  {
   "cell_type": "markdown",
   "metadata": {},
   "source": [
    "## Everything is an object"
   ]
  },
  {
   "cell_type": "markdown",
   "metadata": {},
   "source": [
    "In Python, everything is an object. Strings, integers, and all other values are objects. Functions are objects. Even the special value None is an object. Given the power and popularity of Python (and other object-oriented languages), it's clear that object-oriented design can be a valuable tool for organizing code in ways that help make programming easier. It can feel very abstract at first, but it's definitely worthwhile to master the concepts involved."
   ]
  },
  {
   "cell_type": "markdown",
   "metadata": {},
   "source": [
    "## Printing objects of user-defined classes"
   ]
  },
  {
   "cell_type": "markdown",
   "metadata": {},
   "source": [
    "If you try to print an object of a user-defined class, you'll get something like this:\n",
    "\n",
    "    print(account_1)\n",
    "    __main__.BankAccount object at 0x103506d30>\n",
    "\n",
    "which just tells you what class it belongs to and its address in memory.  In order to print out the values of the data members, you need to specifically access those data members in the print statement, as shown earlier.  In CS 162, you'll learn how to re-define the behavior of the print function for objects of user-defined classes."
   ]
  },
  {
   "cell_type": "markdown",
   "metadata": {},
   "source": [
    "## Exercises"
   ]
  },
  {
   "cell_type": "markdown",
   "metadata": {},
   "source": [
    "1. Define a class named *HourlyWorker* that has three private data members: *_name*, *_ID*, and *_wage*. The class should have a docstring and an init method. The parameters to the init method should be in the order listed above."
   ]
  },
  {
   "cell_type": "code",
   "execution_count": null,
   "metadata": {},
   "outputs": [],
   "source": [
    "# Type code here\n"
   ]
  },
  {
   "cell_type": "markdown",
   "metadata": {},
   "source": [
    "2. Define a class named Box that has three private data members:*_length*, *_width*, and *_height*. The class should have a docstring and an init method. The parameters to the init method should be in the order listed above. The class should also have a method named volume that returns the *volume* of the Box, and a method named surface_area that returns the *surface area* of the Box."
   ]
  },
  {
   "cell_type": "code",
   "execution_count": null,
   "metadata": {},
   "outputs": [],
   "source": [
    "# Type code here\n"
   ]
  }
 ],
 "metadata": {
  "kernelspec": {
   "display_name": "Python 3",
   "language": "python",
   "name": "python3"
  },
  "language_info": {
   "codemirror_mode": {
    "name": "ipython",
    "version": 3
   },
   "file_extension": ".py",
   "mimetype": "text/x-python",
   "name": "python",
   "nbconvert_exporter": "python",
   "pygments_lexer": "ipython3",
   "version": "3.8.2"
  }
 },
 "nbformat": 4,
 "nbformat_minor": 4
}
