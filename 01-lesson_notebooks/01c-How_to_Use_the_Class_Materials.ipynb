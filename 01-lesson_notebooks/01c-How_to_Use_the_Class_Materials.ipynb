{
 "cells": [
  {
   "attachments": {},
   "cell_type": "markdown",
   "metadata": {},
   "source": [
    "# How to use the class materials\n",
    "The material is composed of two parts:\n",
    "1. A series of Jupyter notebooks that contain all of the instructional content\n",
    "2. A series of projects that are to be practiced on your IDE (Visual Studio Code)\n",
    "\n",
    "In the notebooks and projects directories, there is a common convention of materials containing a numbered label, for example `01`, or `03c`. The ## portion represents the week you should expect to complete the material and the letters represent the order you should work through the material. \n",
    "\n",
    "For instance, the first week you should read through all the materials under the `01-lesson_notebooks` directory and work through all the exercises contained within the notebooks that start with the convetion `01-...`. Then under the `02-IDE_Exercises` complete all the projects with the `01` label (In this case there is only one project).\n",
    "\n",
    "Note, that your last two weeks will have two projects without any lessons. These projects represent the application of the culminated knowledge throughout the course.\n",
    "\n",
    "## How to use Jupyter Notebooks\n",
    "We can open Jupyter Notebooks in our browser window as well as an IDE that has the correct add-ins. Let's try opening it in our browser first.\n",
    "\n",
    "In your terminal equivalent (git bash is recommended for Windows) navigate to the `python_class_101` directory. Now in our terminal windows we can type in the command `jupyter notebook`. The appliction should launch in your default browswer. It's important to understand that jupyter notebooks is running locally and using your browser as a display mechanism, it is not connecting to the internet.\n",
    "\n",
    "Let's checkout a particular notebook and how we progress through the material. Navigate in your browser window to the beginning of week 2 with the notebook `02a-Print_Statements_and_Types`.\n",
    "\n",
    "We can see that each notebook is essentialy composed of two parts: blocks of text and blocks of code.\n",
    "\n",
    "Read through the text and engaage with the code blocks as they generally instruct you to.\n",
    "\n",
    "For instance, in this first block we see above, we can just run the block by clicking the `Shift` + `Enter` keys.\n",
    "\n",
    "We can see a couple of indications that the cell ran. Firstly, we can see the result printed out below the cell. Also, to the left of the block we can see a label `In []`. When run it the first time, it should looks something like `1[*]` while its calculating and then look like `In [1]` once completed.\n",
    "\n",
    "Jupyter notebook cells are connected to each other on a given notebook. So the next cell we run, or if we were to run this cell again, would have the notation `In [2]`. It's important to remember that these cells are connected to each other, and that previous states are remembered. So, if you run these cells multiple times and make changes along the way, you may start to see unexpected behavior. This is important when you start defining variables, something we'll cover in `02b-Variables_and_Assignment`.\n",
    "\n",
    "Due to this, it's not a bad idea that if you start having to run a cell multiple times, it may be best to consider reseting your \"Kernel\". You can do this by selecting the drop-down labeled \"Kernel\" and selecting \"Restart\".\n",
    "\n",
    "## How to use Visual Studio Code\n",
    "You can run Jupyter Notebooks in VS Code as well with the appropriate extension installed. The primary purpose of our need for Visual Studio Code is to build, manage, and run our projects.\n",
    "\n",
    "Once you have completed your readings and you feel comfortable applying the lessons, you can begin the IDE project(s) associated with that particular week.\n",
    "Open your Visual Studio Code IDE application. Then navigate to the file tab at the top and select open folder. Then it is just a matter of navigating to the corresponding IDE project folder you’d like to work on.\n",
    "\n",
    "You can start at any parent folder, but to prevent an eye-sore, I’m going to navigate down to project-2a as an example:\n",
    "\n",
    "Now your editor should look something like this:\n",
    "\n",
    "\n",
    "Let’s click on the README document first. Here, each project will have a README that outlines the problem you should code a solution for. Every README is written in a formatting language called Markdown (so are the notebooks actually), so it won’t look very readable if you're not used ot it.\n",
    "\n",
    "This can be solved by either reading the relevant README on github where the file is actually stored, or a better solution is to add a VS Code extension that allows to view formatted markdown files.\n",
    "\n",
    "On the left hand panel you’ll see a number of tools. The one that looks like a tetris block at the bottom is how we can add additional extensions to enhance our experience. So let’s click that and then in search window that pops up let’s type “Markdown Preview Enhanced” by Yiyi Wang.\n",
    "\n",
    "In my window it’s 2nd from the top. I’ve already installed it so you don’t see the little install box in my picture, but you should see an install option on yours. Simply click that install button to get the extension.\n",
    "\n",
    "Now We can click back on the explorer window to get our original view. And if we right click on our README.md display we will see an option to use our preview markdown functionality. Select that option and you should see a prettily formatted version of the file.\n",
    "\n",
    "There… much better.\n",
    "\n",
    "You can see that the problem wants to write a program that takes an input of five numbers and then prints out the average of those five numbers.\n",
    "\n",
    "It suggests you name your solution average.py. Once we’ve read the question we can close the preview and go back to our panel. Let’s start by creating a new.py file to house our answer.\n",
    "\n",
    "If I hover over the `Project-02a` folder I’ll see an icon that will let me add a new file and new folder. Select the new file button. Then simply type in the name of your file. In our case, we will call it `calculate_average.py` as suggested.\n",
    "\n",
    "Now we have a `.py` file we can write our code in to solve the problem given in the README. We can run the our code with a green arrow at the top of the IDE and any printed results in the terminal that will be displayed below.\n",
    "\n",
    "In the `02-IDE_Exercises` directory you will see a folder called `solutions`. Here you can find an example of a solution to the problem you were trying to solve. Try very hard to avoid reviewing until you have completed your attempt as fully as you can. The struggle is all part of the learning processs... embrace it.\n",
    "\n",
    "\n",
    "\n"
   ]
  }
 ],
 "metadata": {
  "kernelspec": {
   "display_name": "Python 3",
   "language": "python",
   "name": "python3"
  },
  "language_info": {
   "name": "python",
   "version": "3.7.16 (default, Jan  9 2023, 01:23:12) \n[GCC 11.3.0]"
  },
  "orig_nbformat": 4,
  "vscode": {
   "interpreter": {
    "hash": "2a806d3aeacb674212bb9595bc81b7e00560d028deaf5d893b1185a2f7bac5ac"
   }
  }
 },
 "nbformat": 4,
 "nbformat_minor": 2
}
