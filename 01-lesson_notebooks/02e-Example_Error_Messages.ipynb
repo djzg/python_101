{
 "cells": [
  {
   "cell_type": "markdown",
   "source": [
    "# Example Error Messages"
   ],
   "metadata": {}
  },
  {
   "cell_type": "markdown",
   "source": [
    "Here are a few examples of problems and their corresponding error messages:"
   ],
   "metadata": {}
  },
  {
   "cell_type": "markdown",
   "source": [
    "## EOF"
   ],
   "metadata": {}
  },
  {
   "cell_type": "markdown",
   "source": [
    "See what happens when you try to execute the cell below"
   ],
   "metadata": {}
  },
  {
   "cell_type": "code",
   "execution_count": null,
   "source": [
    "print(\"hello\""
   ],
   "outputs": [],
   "metadata": {}
  },
  {
   "cell_type": "markdown",
   "source": [
    "We omitted the closing parenthesis. EOF stands for \"end of file\" - the interpreter got to the end of the file and never found the missing parenthesis."
   ],
   "metadata": {}
  },
  {
   "cell_type": "markdown",
   "source": [
    "## EOL"
   ],
   "metadata": {}
  },
  {
   "cell_type": "markdown",
   "source": [
    "Here's another example. See what happens when you try to execute the cell below"
   ],
   "metadata": {}
  },
  {
   "cell_type": "code",
   "execution_count": null,
   "source": [
    "print(\"hello)"
   ],
   "outputs": [],
   "metadata": {}
  },
  {
   "cell_type": "markdown",
   "source": [
    "We omitted the closing quotation mark for the string. EOL stands for \"end of line\" - the interpreter got to the end of the line without finding the missing quotation mark. Because strings can't be split across lines, the interpreter doesn't need to look all the way to the end of the file."
   ],
   "metadata": {}
  },
  {
   "cell_type": "markdown",
   "source": [
    "## NameError"
   ],
   "metadata": {}
  },
  {
   "cell_type": "code",
   "execution_count": null,
   "source": [
    "print(phrase)"
   ],
   "outputs": [],
   "metadata": {}
  },
  {
   "cell_type": "markdown",
   "source": [
    "We didn't assign a value to phrase before trying to print it."
   ],
   "metadata": {}
  },
  {
   "cell_type": "markdown",
   "source": [
    "## SyntaxError"
   ],
   "metadata": {}
  },
  {
   "cell_type": "code",
   "execution_count": null,
   "source": [
    "32 = age"
   ],
   "outputs": [],
   "metadata": {}
  },
  {
   "cell_type": "markdown",
   "source": [
    "We have to have a variable on the left side of an assignment statement, not a literal value."
   ],
   "metadata": {}
  },
  {
   "cell_type": "markdown",
   "source": [
    "## TypeError"
   ],
   "metadata": {}
  },
  {
   "cell_type": "code",
   "execution_count": null,
   "source": [
    "num_1 = input(\"Enter first operand: \")\r\n",
    "num_2 = input(\"Enter second operand: \")\r\n",
    "print(\"The result is\", num_1 ** num_2)"
   ],
   "outputs": [],
   "metadata": {}
  },
  {
   "cell_type": "markdown",
   "source": [
    "We didn't cast the input strings to numbers before trying to do math with them - the ** operator isn't defined for strings. Notice that if we change the operator from ** to +, we don't get an error message, just a result we may not expect:"
   ],
   "metadata": {}
  },
  {
   "cell_type": "markdown",
   "source": [
    "## Concatenation"
   ],
   "metadata": {}
  },
  {
   "cell_type": "markdown",
   "source": [
    "In the Repl above, try running the code again after changing the ** in line 3 to a + sign, so that the last line looks like"
   ],
   "metadata": {}
  },
  {
   "cell_type": "code",
   "execution_count": null,
   "source": [
    "print(\"The result is\", num_1 + num_2)"
   ],
   "outputs": [],
   "metadata": {}
  },
  {
   "cell_type": "markdown",
   "source": [
    "The reason this doesn't cause an error message is because + is defined for strings as concatenation. If you enter 3 for num_1 and 4 for num_2, then the third line will print that the result is 34, which is the concatenation of \"3\" and \"4\"."
   ],
   "metadata": {}
  }
 ],
 "metadata": {
  "kernelspec": {
   "name": "python3",
   "display_name": "Python 3.8.2 32-bit"
  },
  "language_info": {
   "codemirror_mode": {
    "name": "ipython",
    "version": 3
   },
   "file_extension": ".py",
   "mimetype": "text/x-python",
   "name": "python",
   "nbconvert_exporter": "python",
   "pygments_lexer": "ipython3",
   "version": "3.8.2"
  },
  "interpreter": {
   "hash": "bbb5d64838647c9aec07659d427a5725e456c22b810c36799c15d93a85c48469"
  }
 },
 "nbformat": 4,
 "nbformat_minor": 4
}