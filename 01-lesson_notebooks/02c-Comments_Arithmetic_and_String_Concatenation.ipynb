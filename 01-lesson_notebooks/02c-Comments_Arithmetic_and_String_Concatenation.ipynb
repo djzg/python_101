{
 "cells": [
  {
   "cell_type": "markdown",
   "metadata": {},
   "source": [
    "# Comments, Arithmetic, & String Concatenation\n",
    "## Comments\n",
    "Comments are notes for those reading the code, and are ignored by the Python interpreter. A comment begins with #. A comment can be either on its own line or on the same line as other code. Either way, the compiler ignores everything between the # and the end of the line."
   ]
  },
  {
   "cell_type": "code",
   "execution_count": null,
   "metadata": {},
   "outputs": [],
   "source": [
    "# this is a comment\n",
    "height = 1.8 # this is also a comment"
   ]
  },
  {
   "cell_type": "markdown",
   "metadata": {},
   "source": [
    "You should write comments that explain non-obvious aspects of your code, such as the purpose of a particular section, the units for the value of some variable, the reason for a certain design choice, etc. You certainly don't need to comment every line, but keep in mind that how your code works may not be obvious to other people, or even to yourself in a few months."
   ]
  },
  {
   "cell_type": "markdown",
   "metadata": {},
   "source": [
    "## Arithmetic\n",
    "Addition, subtraction, multiplication and division are done with the +, -, *, and / symbols."
   ]
  },
  {
   "cell_type": "markdown",
   "metadata": {},
   "source": [
    "The floor division operation is done with the // symbol, and gives you the rounded down result of division."
   ]
  },
  {
   "cell_type": "code",
   "execution_count": null,
   "metadata": {},
   "outputs": [],
   "source": [
    "floor_1 = 7 // 2 # 3\n",
    "floor_2 = -7 // 2 # -4"
   ]
  },
  {
   "cell_type": "markdown",
   "metadata": {},
   "source": [
    "**Normal division results in a float value, even if the result is an integer.  For example 8 / 4 would give you 2.0.  If you need an integer remainder, use floor division.**"
   ]
  },
  {
   "cell_type": "markdown",
   "metadata": {},
   "source": [
    "The mod operation is done with the % symbol, and gives you the **remainder** of division."
   ]
  },
  {
   "cell_type": "code",
   "execution_count": null,
   "metadata": {},
   "outputs": [],
   "source": [
    "remainder_1 = 14 % 3 # 2\n",
    "remainder_2 = 3 % 5 # 3"
   ]
  },
  {
   "cell_type": "markdown",
   "metadata": {},
   "source": [
    "Exponentiation is done with the ** symbol."
   ]
  },
  {
   "cell_type": "code",
   "execution_count": null,
   "metadata": {},
   "outputs": [],
   "source": [
    "power_1 = 3 ** 4 # 81\n",
    "power_2 = 2 ** -3 # 0.125"
   ]
  },
  {
   "cell_type": "markdown",
   "metadata": {},
   "source": [
    "The order of operations is exponentiation, followed by multiplication, division, floor, and mod, followed by addition and subtraction. However parentheses can be used to give whatever order is needed, since operations in parentheses happen first."
   ]
  },
  {
   "cell_type": "code",
   "execution_count": null,
   "metadata": {},
   "outputs": [],
   "source": [
    "result_1 = 3 * 5 + 1 # 16, multiplication happens first\n",
    "result_2 = 3 * (5 + 1) # 18, addition happens first"
   ]
  },
  {
   "cell_type": "markdown",
   "metadata": {},
   "source": [
    "The += operator is a slightly shorter way to express that you want to add something to an existing value. The following statements do exactly the same thing:"
   ]
  },
  {
   "cell_type": "code",
   "execution_count": null,
   "metadata": {},
   "outputs": [],
   "source": [
    "my_sum = 0\n",
    "my_sum = my_sum + 8\n",
    "# the notation below is the equivalent of the notation above\n",
    "my_sum += 8"
   ]
  },
  {
   "cell_type": "markdown",
   "metadata": {},
   "source": [
    "You can combine = with each of the operators above to get the following shortcut operators. See for yourself by typing in the following examples and then checking the value of 'num'."
   ]
  },
  {
   "cell_type": "code",
   "execution_count": null,
   "metadata": {},
   "outputs": [],
   "source": [
    "num = 1"
   ]
  },
  {
   "cell_type": "code",
   "execution_count": null,
   "metadata": {},
   "outputs": [],
   "source": [
    "num += 3 # same as num = num + 3\n",
    "num -= 3 # same as num = num - 3\n",
    "num *= 3 # same as num = num * 3\n",
    "num /= 3 # same as num = num / 3\n",
    "num //= 3 # same as num = num // 3\n",
    "num %= 3 # same as num = num % 3\n",
    "num **= 3 # same as num = num ** 3"
   ]
  },
  {
   "cell_type": "markdown",
   "metadata": {},
   "source": [
    "The += operator is the most commonly used of these, since it's handy for accumulating totals.\n",
    "\n",
    "You can get the absolute value of a number like this:"
   ]
  },
  {
   "cell_type": "code",
   "execution_count": null,
   "metadata": {},
   "outputs": [],
   "source": [
    "answer = abs(-12)"
   ]
  },
  {
   "cell_type": "markdown",
   "metadata": {},
   "source": [
    "In the above line, the variable answer is assigned the value 12."
   ]
  },
  {
   "cell_type": "markdown",
   "metadata": {},
   "source": [
    "## Concatenation\n",
    "The + operator can also be used with strings to concatenate them together."
   ]
  },
  {
   "cell_type": "code",
   "execution_count": null,
   "metadata": {},
   "outputs": [],
   "source": [
    "first_name = \"Carol\"\n",
    "last_name = \"Danvers\"\n",
    "full_name = first_name + \" \" + last_name\n",
    "print(full_name)"
   ]
  },
  {
   "cell_type": "markdown",
   "metadata": {},
   "source": [
    "## Exercises\n",
    "1. Write a statement that prints out the remainder of 17 divided by 3."
   ]
  },
  {
   "cell_type": "code",
   "execution_count": null,
   "metadata": {},
   "outputs": [],
   "source": [
    "# type code below\n"
   ]
  },
  {
   "cell_type": "markdown",
   "metadata": {},
   "source": [
    "2. Write a statement that prints out 3 to the 4th power."
   ]
  },
  {
   "cell_type": "code",
   "execution_count": null,
   "metadata": {},
   "outputs": [],
   "source": [
    "# type code below\n"
   ]
  },
  {
   "cell_type": "markdown",
   "metadata": {},
   "source": [
    "3. Write a statement that finds the result of 17 divided by 6 and assigns it to a variable named conversion_ratio."
   ]
  },
  {
   "cell_type": "code",
   "execution_count": null,
   "metadata": {},
   "outputs": [],
   "source": [
    "# type code below\n"
   ]
  },
  {
   "cell_type": "markdown",
   "metadata": {},
   "source": [
    "4. Write code that first assigns 9 to a variable called num_planets, then subtracts 1 from it, so that num_planets will now equal 8."
   ]
  },
  {
   "cell_type": "code",
   "execution_count": null,
   "metadata": {},
   "outputs": [],
   "source": [
    "# type code below\n"
   ]
  },
  {
   "cell_type": "markdown",
   "metadata": {},
   "source": [
    "5. Write code that assigns \"Doctor\" to a variable named title, assigns \"Strange\" to a variable called last_name, and then uses string concatenation to print out \"Doctor Strange\"."
   ]
  },
  {
   "cell_type": "code",
   "execution_count": null,
   "metadata": {},
   "outputs": [],
   "source": [
    "# type code below\n"
   ]
  }
 ],
 "metadata": {
  "kernelspec": {
   "display_name": "Python 3",
   "language": "python",
   "name": "python3"
  },
  "language_info": {
   "codemirror_mode": {
    "name": "ipython",
    "version": 3
   },
   "file_extension": ".py",
   "mimetype": "text/x-python",
   "name": "python",
   "nbconvert_exporter": "python",
   "pygments_lexer": "ipython3",
   "version": "3.8.2"
  }
 },
 "nbformat": 4,
 "nbformat_minor": 4
}
