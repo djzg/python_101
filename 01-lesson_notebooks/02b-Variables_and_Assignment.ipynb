{
 "cells": [
  {
   "cell_type": "markdown",
   "metadata": {},
   "source": [
    "# Variables & Assignment\n",
    "A variable is a name that refers to a particular value. It's called a variable because the value it refers to can change. An assignment statement assigns a value to a variable. If a variable of that name doesn't yet exist, then one is created. Assignment statements look like this:"
   ]
  },
  {
   "cell_type": "code",
   "execution_count": null,
   "metadata": {},
   "outputs": [],
   "source": [
    "radius = 19.2\n",
    "first_name = \"Jane\"\n",
    "is_even = True\n",
    "num_1 = 12"
   ]
  },
  {
   "cell_type": "markdown",
   "metadata": {},
   "source": [
    "Each of these statements causes the variable on the left side to refer to the value on the right side. It's also possible to have a variable on the right side of an assignment statement, in which case the variable on the left side will now refer to the same value as the variable on the right side. After the statement below, num_1 and num_2 will both refer to the value 12."
   ]
  },
  {
   "cell_type": "code",
   "execution_count": null,
   "metadata": {},
   "outputs": [],
   "source": [
    "num_2 = num_1"
   ]
  },
  {
   "cell_type": "markdown",
   "metadata": {},
   "source": [
    "You can print the value that a variable refers to like so:"
   ]
  },
  {
   "cell_type": "code",
   "execution_count": null,
   "metadata": {},
   "outputs": [],
   "source": [
    "print(radius)\n",
    "print(first_name)\n",
    "print(\"The value of is_even is\", is_even)"
   ]
  },
  {
   "cell_type": "markdown",
   "metadata": {},
   "source": [
    "Variable names should be descriptive of their purpose to enhance the readability of your code. They must start with a letter or an underscore - subsequent characters can be numbers, letters or underscores. Variable names are case sensitive - radius, Radius, raDius, etc. would be interpreted as different variables. A variable name cannot be the same as a keyword. Python 3 has the following keywords:"
   ]
  },
  {
   "cell_type": "markdown",
   "metadata": {},
   "source": [
    "    False class finally is return\n",
    "    True continue for lambda try\n",
    "    None def from nonlocal while\n",
    "    and del global not with\n",
    "    as elif if or yield\n",
    "    assert else import pass\n",
    "    break except in raise"
   ]
  },
  {
   "cell_type": "markdown",
   "metadata": {},
   "source": [
    "## Static Typing vs. Dynamic Typing\n",
    "\n",
    "Python is a dynamically typed language, meaning variables can change from type to type with any new assignment. For example, this is a legal statement in python:\n",
    "\n",
    "`my_number = 57`\n",
    "\n",
    "`my_number = 'fifty-seven'`\n",
    "\n",
    "Dynamic typing can make for an easy introduction to programming, but can be quite problematic as your codebase gets more and more complex and ever changing variables are harder to track.\n",
    "\n",
    "To help you keep your variables straight, you can use the `type` function to see what type of value a variable currently refers to. See example below\n",
    "\n",
    "### *Extra note*\n",
    "\n",
    "*For this exact reason, many popular languages use a system called static typing, whereby a variable type must be intially defined and cannot change without a properly defined operation. Python has added some capability to approximate static typing in later versions (while under the hood still not technically being static typing). This functionaltiy in Python will not be specifically covered in this iteration of this course, but it's worth understanding as it is commonly implemented among development teams that use Python.*\n",
    "\n",
    "Static typing in C++, for example, would look something like:\n",
    "\n",
    "`int myNumber = 57;`\n",
    "\n",
    "`string myString = \"fifty-seven\";`\n",
    "\n",
    "Trying to simply reassign `myNumber` to a string or `myString` to an integer would result in errors.\n",
    "\n",
    "\n"
   ]
  },
  {
   "cell_type": "code",
   "execution_count": 4,
   "metadata": {},
   "outputs": [
    {
     "output_type": "stream",
     "name": "stdout",
     "text": [
      "The type of my_number is  <class 'int'>\nThe type of my_number is  <class 'str'>\n"
     ]
    }
   ],
   "source": [
    "my_number = 57\n",
    "print(\"The type of my_number is \", type(my_number))\n",
    "my_number = \"fifty-seven\"\n",
    "print(\"The type of my_number is \", type(my_value))"
   ]
  },
  {
   "cell_type": "markdown",
   "metadata": {},
   "source": [
    "## Literals\n",
    "Literal values like 212, or -17.8, or \"Wichita\", or true, are often referred to simply as literals."
   ]
  },
  {
   "cell_type": "markdown",
   "metadata": {},
   "source": [
    "## Exercises\n",
    "1. Assign the value 3.14159 to a variable named pi, and then print out the value of that variable."
   ]
  },
  {
   "cell_type": "code",
   "execution_count": null,
   "metadata": {},
   "outputs": [],
   "source": [
    "# type code here\n"
   ]
  },
  {
   "cell_type": "markdown",
   "metadata": {},
   "source": [
    "2. Assign the value \"Nguyen\" to a variable named last_name, and then print out the value of that variable."
   ]
  },
  {
   "cell_type": "code",
   "execution_count": null,
   "metadata": {},
   "outputs": [],
   "source": [
    "# type code here\n"
   ]
  },
  {
   "cell_type": "markdown",
   "metadata": {},
   "source": [
    "3. Assign the value 16.4 to a variable named length, and then print out the type of the value that variable refers to."
   ]
  },
  {
   "cell_type": "code",
   "execution_count": null,
   "metadata": {},
   "outputs": [],
   "source": [
    "# type code here\n"
   ]
  },
  {
   "cell_type": "markdown",
   "metadata": {},
   "source": [
    "4. Assign the value \"blacksmith\" to a variable named occupation, and the print out the type of the value that variable refers to."
   ]
  },
  {
   "cell_type": "code",
   "execution_count": null,
   "metadata": {},
   "outputs": [],
   "source": [
    "# type code here\n"
   ]
  }
 ],
 "metadata": {
  "kernelspec": {
   "name": "python382jvsc74a57bd0bbb5d64838647c9aec07659d427a5725e456c22b810c36799c15d93a85c48469",
   "display_name": "Python 3.8.2 32-bit"
  },
  "language_info": {
   "codemirror_mode": {
    "name": "ipython",
    "version": 3
   },
   "file_extension": ".py",
   "mimetype": "text/x-python",
   "name": "python",
   "nbconvert_exporter": "python",
   "pygments_lexer": "ipython3",
   "version": "3.8.2"
  }
 },
 "nbformat": 4,
 "nbformat_minor": 4
}