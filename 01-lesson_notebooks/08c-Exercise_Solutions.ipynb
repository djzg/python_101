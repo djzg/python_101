{
 "cells": [
  {
   "cell_type": "markdown",
   "metadata": {},
   "source": [
    "# Exercise Solutions"
   ]
  },
  {
   "cell_type": "markdown",
   "metadata": {},
   "source": [
    "## Dictionaries"
   ]
  },
  {
   "cell_type": "markdown",
   "metadata": {},
   "source": [
    "1. Make a dictionary called *eng_to_span* where the keys are the English words \"one\" through \"ten\", and the corresponding values are their Spanish translations."
   ]
  },
  {
   "cell_type": "code",
   "execution_count": null,
   "metadata": {},
   "outputs": [],
   "source": [
    "eng_to_span = {\"one\": \"uno\",\n",
    "               \"two\": \"dos\",\n",
    "               \"three\": \"tres\",\n",
    "               \"four\": \"cuatro\",\n",
    "               \"five\": \"cinco\",\n",
    "               \"six\": \"seis\",\n",
    "               \"seven\": \"siete\",\n",
    "               \"eight\": \"ocho\",\n",
    "               \"nine\": \"nueve\",\n",
    "               \"ten\": \"diez\"}"
   ]
  },
  {
   "cell_type": "markdown",
   "metadata": {},
   "source": [
    "2. Using the dictionary from #1, write a loop that prints out both the key and value of each key-value pair, for example the first iteration of the loop should print 'one' 'uno'."
   ]
  },
  {
   "cell_type": "code",
   "execution_count": null,
   "metadata": {},
   "outputs": [],
   "source": [
    "eng_to_span = {\"one\": \"uno\",\n",
    "               \"two\": \"dos\",\n",
    "               \"three\": \"tres\",\n",
    "               \"four\": \"cuatro\",\n",
    "               \"five\": \"cinco\",\n",
    "               \"six\": \"seis\",\n",
    "               \"seven\": \"siete\",\n",
    "               \"eight\": \"ocho\",\n",
    "               \"nine\": \"nueve\",\n",
    "               \"ten\": \"diez\"}\n",
    "\n",
    "for n in eng_to_span:\n",
    "    print(n, eng_to_span[n])"
   ]
  },
  {
   "cell_type": "markdown",
   "metadata": {},
   "source": [
    "3. Write a function named *some_squares* that takes a positive integer parameter and returns a dictionary where the keys are the integers from 1 through the value of the parameter, and the corresponding values are the squares of those integers. For example, if it's passed 3, then the dictionary should contain the following key-value pairs: {1: 1, 2: 4, 3: 9}."
   ]
  },
  {
   "cell_type": "code",
   "execution_count": null,
   "metadata": {},
   "outputs": [],
   "source": [
    "def some_squares(n):\n",
    "    d = {}\n",
    "    for i in range(1, n+1):\n",
    "        d[i] = i*i \n",
    "    \n",
    "    return d"
   ]
  },
  {
   "cell_type": "markdown",
   "metadata": {},
   "source": [
    "## Sets"
   ]
  },
  {
   "cell_type": "markdown",
   "metadata": {},
   "source": [
    "1. Write your own function called *unionize* for finding the union of two sets. Your function should take as parameters two sets, and return a new set that is the union of those two sets. Do not use Python's built-in union functionality."
   ]
  },
  {
   "cell_type": "code",
   "execution_count": null,
   "metadata": {},
   "outputs": [],
   "source": [
    "def unionize(s1, s2):\n",
    "    result = set()\n",
    "    for i in s1:\n",
    "        result.add(i)\n",
    "    for i in s2:\n",
    "        result.add(i)\n",
    "  \n",
    "    return result"
   ]
  },
  {
   "cell_type": "markdown",
   "metadata": {},
   "source": [
    "2. Write your own function called *intersect* for finding the intersection of two sets. Your function should take as parameters two sets, and return a new set that is the intersection of those two sets. Do not use Python's built-in intersection functionality."
   ]
  },
  {
   "cell_type": "code",
   "execution_count": null,
   "metadata": {},
   "outputs": [],
   "source": [
    "def intersect(s1, s2):\n",
    "    return {i for i in s1 if i in s2}"
   ]
  },
  {
   "cell_type": "markdown",
   "metadata": {},
   "source": [
    "3. Write your own function called *sym_diff* for finding the symmetric difference of two sets.  Your function should take as parameters two sets, and return a new set that is the symmetric difference of those two sets.  Do not use Python's built-in symmetric difference functionality."
   ]
  },
  {
   "cell_type": "code",
   "execution_count": null,
   "metadata": {},
   "outputs": [],
   "source": [
    "def sym_diff(s1, s2):\n",
    "    s3 = s1 | s2\n",
    "    return set(i for i in s3 if ((i not in s1) or (i not in s2)))"
   ]
  }
 ],
 "metadata": {
  "kernelspec": {
   "display_name": "Python 3",
   "language": "python",
   "name": "python3"
  },
  "language_info": {
   "codemirror_mode": {
    "name": "ipython",
    "version": 3
   },
   "file_extension": ".py",
   "mimetype": "text/x-python",
   "name": "python",
   "nbconvert_exporter": "python",
   "pygments_lexer": "ipython3",
   "version": "3.8.2"
  }
 },
 "nbformat": 4,
 "nbformat_minor": 4
}
