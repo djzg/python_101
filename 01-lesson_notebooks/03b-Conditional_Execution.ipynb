{
 "cells": [
  {
   "cell_type": "markdown",
   "metadata": {},
   "source": [
    "# Conditional Execution\n",
    "## if Statements\n",
    "The if statement enables us to define branches in our code based on whether a given condition is true or false. Here's a simple example:"
   ]
  },
  {
   "cell_type": "code",
   "execution_count": null,
   "metadata": {},
   "outputs": [],
   "source": [
    "num = 14\n",
    "if num % 2 == 0:    \n",
    "    print(\"num is even\")   # This line executes if and only if the condition is True\n",
    "else:    \n",
    "    print(\"num is odd\")    # This line executes if and only if the condition is False"
   ]
  },
  {
   "cell_type": "markdown",
   "metadata": {},
   "source": [
    "The else case is optional. Both the if and else cases can contain as many statements as needed:"
   ]
  },
  {
   "cell_type": "code",
   "execution_count": null,
   "metadata": {},
   "outputs": [],
   "source": [
    "even_nums = 0\n",
    "odd_nums = 0\n",
    "\n",
    "num = 47\n",
    "if num % 2 == 0:\n",
    "    print(\"num is even\")    \n",
    "    even_nums += 1\n",
    "else:    \n",
    "    print(\"num is odd\")    \n",
    "    odd_nums += 1"
   ]
  },
  {
   "cell_type": "markdown",
   "metadata": {},
   "source": [
    "The indentation is fundamental for the program to run correctly. In any computer language indentation is very important for readability, but in most it doesn't affect how the computer executes a program. In Python it is what determines how statements are grouped together. So logic that is related to one particular if statement, for instance is spaced underneath. Then a new code block of logic is returned to the original spacing to begin a new block of related statements. \n",
    "\n",
    "The Python language doesn't force you to indent a specific number of spaces, but it's recommended that you indent 4 spaces unless you're adding to existing code that used something different."
   ]
  },
  {
   "cell_type": "markdown",
   "metadata": {},
   "source": [
    "## Nested if statements and elif\n",
    "You can also have nested if statements (if statements inside other if statements):"
   ]
  },
  {
   "cell_type": "code",
   "execution_count": null,
   "metadata": {},
   "outputs": [],
   "source": [
    "score = int(input(\"Enter a score: \"))\n",
    "if score >= 90:    \n",
    "    grade = \"A\"\n",
    "else:    \n",
    "    if score >= 80:   # If we get here we already know the score is less than 90\n",
    "        grade = \"B\"    \n",
    "    else:        \n",
    "        if score >= 70:   # If we get here we already know the score is less than 80\n",
    "            grade = \"C\"        \n",
    "        else:            \n",
    "            if score >= 60:   # Etc.                \n",
    "                grade = \"D\"            \n",
    "            else:            \n",
    "                grade = \"F\"\n",
    "print(\"Letter grade = \", grade)"
   ]
  },
  {
   "cell_type": "markdown",
   "metadata": {},
   "source": [
    "The indentation tells the Python interpreter which ifs and elses go together, however, this level of nesting can get a little hard to read, so the more usual way to express this example would be:"
   ]
  },
  {
   "cell_type": "code",
   "execution_count": null,
   "metadata": {},
   "outputs": [],
   "source": [
    "score = int(input(\"Enter a score: \"))\n",
    "if score >= 90:\n",
    "    grade = \"A\"\n",
    "elif score >= 80:\n",
    "    grade = \"B\"\n",
    "elif score >= 70:\n",
    "    grade = \"C\"\n",
    "elif score >= 60:\n",
    "    grade = \"D\"\n",
    "else:\n",
    "    grade = \"F\"\n",
    "print(\"Letter grade = \", grade)"
   ]
  },
  {
   "cell_type": "markdown",
   "metadata": {},
   "source": [
    "Where \"elif\" is short for \"else if\"."
   ]
  },
  {
   "cell_type": "markdown",
   "metadata": {},
   "source": [
    "## Exercises\n",
    "1. Write code that reads a number from the user, assigns it to a variable, and then prints \"in range\" if that value is between 50 and 100, but prints \"out of range\" otherwise."
   ]
  },
  {
   "cell_type": "code",
   "execution_count": null,
   "metadata": {},
   "outputs": [],
   "source": [
    "# type code here\n"
   ]
  },
  {
   "cell_type": "markdown",
   "metadata": {},
   "source": [
    "2. Write code that reads a number from the user, assigns it to a variable, and then prints \"small\" if it's less than 10, prints \"medium\" if it's at least 10 but less than 50, and prints \"large\" if it's at least 50."
   ]
  },
  {
   "cell_type": "code",
   "execution_count": null,
   "metadata": {},
   "outputs": [],
   "source": [
    "# type code here\n"
   ]
  },
  {
   "cell_type": "markdown",
   "metadata": {},
   "source": [
    "3. Write code that reads an integer from the user and assigns it to a variable. If that integer is a value from 1-5, your program should print out the English word for that number. Otherwise it should print \"input not recognized\"."
   ]
  },
  {
   "cell_type": "code",
   "execution_count": null,
   "metadata": {},
   "outputs": [],
   "source": [
    "# type code here\n"
   ]
  }
 ],
 "metadata": {
  "kernelspec": {
   "display_name": "Python 3",
   "language": "python",
   "name": "python3"
  },
  "language_info": {
   "codemirror_mode": {
    "name": "ipython",
    "version": 3
   },
   "file_extension": ".py",
   "mimetype": "text/x-python",
   "name": "python",
   "nbconvert_exporter": "python",
   "pygments_lexer": "ipython3",
   "version": "3.8.2"
  }
 },
 "nbformat": 4,
 "nbformat_minor": 4
}