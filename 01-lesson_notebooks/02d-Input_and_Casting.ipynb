{
 "cells": [
  {
   "cell_type": "markdown",
   "metadata": {},
   "source": [
    "# Input & Casting\n",
    "## Input Function\n",
    "The input() function reads typed input from the user. You can use it in a couple of ways. For example, if you want to ask the user for their name, you can do this:"
   ]
  },
  {
   "cell_type": "code",
   "execution_count": null,
   "metadata": {},
   "outputs": [],
   "source": [
    "print(\"Please enter your name.\")\n",
    "name = input()\n",
    "print(\"Hi\", name)\n",
    "# make sure you actually enter something or this cell will keep running"
   ]
  },
  {
   "cell_type": "markdown",
   "metadata": {},
   "source": [
    "Or you can do this:"
   ]
  },
  {
   "cell_type": "code",
   "execution_count": null,
   "metadata": {},
   "outputs": [],
   "source": [
    "name = input(\"Please enter your name: \")\n",
    "# make sure you actually enter something or this cell will keep running"
   ]
  },
  {
   "cell_type": "markdown",
   "metadata": {},
   "source": [
    "Notice that with the first way, your input will appear on the line after the prompt, and with the second way, your input would appear on the same line as the prompt.\n",
    "\n",
    "User input is always a string. If you want a numeric value from user input, then you need to cast the string to an int or a float."
   ]
  },
  {
   "cell_type": "code",
   "execution_count": null,
   "metadata": {},
   "outputs": [],
   "source": [
    "age = int(input(\"Please enter your age: \"))\n",
    "height_in_meters = float(input(\"Please enter your height in meters: \"))\n",
    "# make sure you actually enter something or this cell will keep running"
   ]
  },
  {
   "cell_type": "markdown",
   "metadata": {},
   "source": [
    "Each of the lines above combines two functions. First the input function gets a string from the user. Next the int() or float() function casts that string to a numeric value. That value is then assigned to the variable. We can call those functions on separate lines if we want:"
   ]
  },
  {
   "cell_type": "code",
   "execution_count": null,
   "metadata": {},
   "outputs": [],
   "source": [
    "str_age = input(\"Please enter your age: \") # str_age will refer to a string value\n",
    "int_age = int(str_age) # int_age will refer to an int value\n",
    "# make sure you actually enter something or this cell will keep running"
   ]
  },
  {
   "cell_type": "markdown",
   "metadata": {},
   "source": [
    "If the user enters a string that cannot be cast to the specified type, that causes an error. For example, if for height in meters we try to enter \"hi\", what happens?\n",
    "\n",
    "Here's an example that asks the user for two numbers and prints out their sum:"
   ]
  },
  {
   "cell_type": "code",
   "execution_count": null,
   "metadata": {},
   "outputs": [],
   "source": [
    "print(\"Please enter two numbers.\")\n",
    "num_1 = float(input())\n",
    "num_2 = float(input())\n",
    "print(\"The sum is\", num_1 + num_2)"
   ]
  },
  {
   "cell_type": "markdown",
   "metadata": {},
   "source": [
    "You can also cast an int to a float:"
   ]
  },
  {
   "cell_type": "code",
   "execution_count": null,
   "metadata": {},
   "outputs": [],
   "source": [
    "float(18) "
   ]
  },
  {
   "cell_type": "markdown",
   "metadata": {},
   "source": [
    "Or a float to an int, which truncates everything after the decimal point:"
   ]
  },
  {
   "cell_type": "code",
   "execution_count": null,
   "metadata": {},
   "outputs": [],
   "source": [
    "int(3.25)"
   ]
  },
  {
   "cell_type": "markdown",
   "metadata": {},
   "source": [
    "You can also cast values to strings with str()."
   ]
  },
  {
   "cell_type": "code",
   "execution_count": null,
   "metadata": {},
   "outputs": [],
   "source": [
    "str(-9.4) "
   ]
  },
  {
   "cell_type": "code",
   "execution_count": null,
   "metadata": {},
   "outputs": [],
   "source": [
    "str(43)"
   ]
  },
  {
   "cell_type": "markdown",
   "metadata": {},
   "source": [
    "## Exercises\n",
    "1. Write code that asks the user for their name and then prints out \"Hello\" followed by their name."
   ]
  },
  {
   "cell_type": "code",
   "execution_count": null,
   "metadata": {},
   "outputs": [],
   "source": [
    "# type code here\n"
   ]
  },
  {
   "cell_type": "markdown",
   "metadata": {},
   "source": [
    "2. Write code that asks the user for two numbers and then prints out \"The result is\" followed by the result of multiplying those numbers."
   ]
  },
  {
   "cell_type": "code",
   "execution_count": null,
   "metadata": {},
   "outputs": [],
   "source": [
    "# type code here\n"
   ]
  },
  {
   "cell_type": "markdown",
   "metadata": {},
   "source": [
    "3. Take two integers as inputs with variables called `dividend` and `divisor`. Then print out a statement replacing the variables (noted with <> brackets) with your inputs:\n",
    "\n",
    "    `Please enter your dividend:`\n",
    "    \n",
    "    `Please enter your divisor:`\n",
    "\n",
    "    `<divisor> goes into <dividend> <i> times with <r> as the remainder.`"
   ]
  },
  {
   "cell_type": "code",
   "execution_count": null,
   "metadata": {},
   "outputs": [],
   "source": [
    "# type code here\n"
   ]
  }
 ],
 "metadata": {
  "interpreter": {
   "hash": "bbb5d64838647c9aec07659d427a5725e456c22b810c36799c15d93a85c48469"
  },
  "kernelspec": {
   "display_name": "Python 3.8.2 32-bit",
   "name": "python3"
  },
  "language_info": {
   "codemirror_mode": {
    "name": "ipython",
    "version": 3
   },
   "file_extension": ".py",
   "mimetype": "text/x-python",
   "name": "python",
   "nbconvert_exporter": "python",
   "pygments_lexer": "ipython3",
   "version": "3.8.2"
  }
 },
 "nbformat": 4,
 "nbformat_minor": 4
}
