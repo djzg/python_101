{
 "cells": [
  {
   "cell_type": "markdown",
   "metadata": {},
   "source": [
    "# Exercise Solutions"
   ]
  },
  {
   "cell_type": "markdown",
   "metadata": {},
   "source": [
    "## Tuples and Mutability"
   ]
  },
  {
   "cell_type": "markdown",
   "metadata": {},
   "source": [
    "1. Does the following program contradict the idea that tuples are immutable? Why or why not?\n",
    "\n",
    "       def tuple_madness(tup):\n",
    "       return tup[1:]"
   ]
  },
  {
   "cell_type": "markdown",
   "metadata": {},
   "source": [
    "_Ans:_ No; tuple_madness returns a new tuple that contains the same items in *tup* except the first. *tup* is not modified."
   ]
  },
  {
   "cell_type": "markdown",
   "metadata": {},
   "source": [
    "2. Write a function named *insert_front* that takes as a parameter a list and a value to add at the front of the list. It should not return anything - it should mutate the original list. For example, if the arguments passed to the function are [9, -55, 37] and \"bob\", then after calling the function, the list should now be [\"bob\", 9, -55, 37]."
   ]
  },
  {
   "cell_type": "code",
   "execution_count": null,
   "metadata": {},
   "outputs": [],
   "source": [
    "def insert_front(a_list, new_el):\n",
    "    a_list[0:0] = [new_el]"
   ]
  },
  {
   "cell_type": "markdown",
   "metadata": {},
   "source": [
    "3. Write a function named *delete_last* that takes as a parameter a list and removes the last element from that list. It should not return anything - it should mutate the original list. For example, if the list passed to the function is [7, \"joe\", \"apple\", 9.81, False], then after calling the function, the list should be [7, \"joe\", \"apple\", 9.81]."
   ]
  },
  {
   "cell_type": "code",
   "execution_count": null,
   "metadata": {},
   "outputs": [],
   "source": [
    "def delete_last(some_list):\n",
    "    del some_list[-1]"
   ]
  },
  {
   "cell_type": "markdown",
   "metadata": {},
   "source": [
    "## Object References and Identity"
   ]
  },
  {
   "cell_type": "markdown",
   "metadata": {},
   "source": [
    "1. Is it possible to have variables be equal, but not refer to the same object? Is it possible to have variables refer to the same object, but not be equal? Explain both answers.\n",
    "\n",
    "_Ans:_ It is possible to have variables be equal, but not refer to the same object. For example, you can have **num_1** referencing an object with the value 7, and **num_2** referencing a different object with the value 7. It's not possible to have variables refer to the same object, but not be equal. For example, if **num_1** and **num_2** both reference the same object that has a value of -3, then **num_1** and **num_2** will be equal."
   ]
  },
  {
   "cell_type": "markdown",
   "metadata": {},
   "source": [
    "2. If *nums_1* and *nums_2* refer to the same list object, and you delete the first element of *nums_1*, then that affects *nums_2*, because they're the same list. Why is this not true if *nums_1* and *nums_2* refer to the same **tuple** object?"
   ]
  },
  {
   "cell_type": "markdown",
   "metadata": {},
   "source": [
    "_Ans:_ It's because lists are a mutable type, but tuples are an immutable type."
   ]
  },
  {
   "cell_type": "markdown",
   "metadata": {},
   "source": [
    "3. When does rebinding of a variable happen?\n",
    "\n",
    "It happens when a new value is assigned to it. For example:\n",
    "\n",
    "    zip_code = '97331'\n",
    "    zip_code = '98225'\n",
    "\n",
    "The first line creates a string object with the value '97331' and binds *zip_code* to that object. The second line creates a new string object with the value '98225' and rebinds *zip_code* to that new object.\n"
   ]
  }
 ],
 "metadata": {
  "kernelspec": {
   "display_name": "Python 3",
   "language": "python",
   "name": "python3"
  },
  "language_info": {
   "codemirror_mode": {
    "name": "ipython",
    "version": 3
   },
   "file_extension": ".py",
   "mimetype": "text/x-python",
   "name": "python",
   "nbconvert_exporter": "python",
   "pygments_lexer": "ipython3",
   "version": "3.8.2"
  }
 },
 "nbformat": 4,
 "nbformat_minor": 4
}
