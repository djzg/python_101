{
 "cells": [
  {
   "cell_type": "markdown",
   "metadata": {},
   "source": [
    "# Iteration (looping)"
   ]
  },
  {
   "cell_type": "markdown",
   "metadata": {},
   "source": [
    "## Iteration"
   ]
  },
  {
   "cell_type": "markdown",
   "metadata": {},
   "source": [
    "While loops and for loops enable us to make certain sections of code repeat multiple times."
   ]
  },
  {
   "cell_type": "markdown",
   "metadata": {},
   "source": [
    "### while loops"
   ]
  },
  {
   "cell_type": "markdown",
   "metadata": {},
   "source": [
    "A while loop continues iterating as long as its condition remains true. Here's an example:"
   ]
  },
  {
   "cell_type": "code",
   "execution_count": null,
   "metadata": {},
   "outputs": [],
   "source": [
    "# Accumulates total score until it's 100 or greater\n",
    "total_score = 0\n",
    "while total_score < 100:    \n",
    "    total_score += int(input(\"Enter your score for this round: \"))    \n",
    "    print(\"total so far =\", total_score)"
   ]
  },
  {
   "cell_type": "markdown",
   "metadata": {},
   "source": [
    "The loop will first test the condition. If it's true, then the code in the loop is executed. It will continue testing the condition and executing the loop until the condition is false, at which point we drop out of the loop and execution resumes with whatever code comes after it. It's important that something in the loop will eventually cause the loop condition to become false. Otherwise the loop will continue forever, which is known as an infinite loop. If you tried to run the code example below you would need to click the stop button at the stop... hence why I haven't made it runnable.\n",
    "\n",
    "    while True:\n",
    "        print(\"hi\")"
   ]
  },
  {
   "cell_type": "markdown",
   "metadata": {},
   "source": [
    "### for loops\n",
    "     "
   ]
  },
  {
   "cell_type": "markdown",
   "metadata": {},
   "source": [
    "A for loop traverses a sequence (or iterable type), looping once for each element in the sequence. A loop variable takes on the value of the current element, which can then be used inside the loop. So far, strings are the only iterable type we've looked at - we'll see one more on this page and others later. Here's an example of iterating through a string:"
   ]
  },
  {
   "cell_type": "code",
   "execution_count": null,
   "metadata": {},
   "outputs": [],
   "source": [
    "word = \"apothecary\"\n",
    "for letter in word:    # letter is the loop variable    \n",
    "    print(letter)"
   ]
  },
  {
   "cell_type": "markdown",
   "metadata": {},
   "source": [
    "The first time through the loop, letter equals \"a\", next time through it equals \"p\", next \"o\", and so on until the last time through, when it equals \"y\"."
   ]
  },
  {
   "cell_type": "markdown",
   "metadata": {},
   "source": [
    "### Using ranges with for loops"
   ]
  },
  {
   "cell_type": "markdown",
   "metadata": {},
   "source": [
    "If we need a for loop to iterate over some increasing (or decreasing) sequence of integers, we can achieve that by using a range. Ranges are another iterable type. Here's an example that counts from 1 to 10:"
   ]
  },
  {
   "cell_type": "code",
   "execution_count": null,
   "metadata": {},
   "outputs": [],
   "source": [
    "for num in range(1, 11):\n",
    "    print(num)"
   ]
  },
  {
   "cell_type": "markdown",
   "metadata": {},
   "source": [
    "Notice that the range goes from 1 up to, but not including, 11. A range can also count by a given step size:"
   ]
  },
  {
   "cell_type": "code",
   "execution_count": null,
   "metadata": {},
   "outputs": [],
   "source": [
    "# counts by twos\n",
    "for num in range(1, 11, 2): # the third number is the step size\n",
    "    print(num)"
   ]
  },
  {
   "cell_type": "markdown",
   "metadata": {},
   "source": [
    "You can count down by using a negative step size, but if you do, then the first number (the start of the range) needs to be greater than the second number (the end of the range):"
   ]
  },
  {
   "cell_type": "code",
   "execution_count": null,
   "metadata": {},
   "outputs": [],
   "source": [
    "# counts down from 10 to 1\n",
    "for num in range(10, 0, -1):\n",
    "    print(num)"
   ]
  },
  {
   "cell_type": "markdown",
   "metadata": {},
   "source": [
    "### break and continue"
   ]
  },
  {
   "cell_type": "markdown",
   "metadata": {},
   "source": [
    "A loop can be terminated early with the \"break\" keyword. For example:"
   ]
  },
  {
   "cell_type": "code",
   "execution_count": null,
   "metadata": {},
   "outputs": [],
   "source": [
    "for num in range(1, 11):    \n",
    "    if (num == 5):        \n",
    "        break    \n",
    "    print(num)"
   ]
  },
  {
   "cell_type": "markdown",
   "metadata": {},
   "source": [
    "This loop only prints the numbers up to 4 because when the \"break\" is executed, it immediately drops us out of the loop.\n",
    "\n",
    "The \"continue\" keyword allows us to skip iterations of a loop. For example, try replacing the word \"break\" with \"continue\" in line 3 of Repl above. With that change, it prints the numbers from 1 through 10 except for 5, because it skips that iteration, jumping us to the next iteration of the loop."
   ]
  },
  {
   "cell_type": "markdown",
   "metadata": {},
   "source": [
    "### Proper use of break"
   ]
  },
  {
   "cell_type": "markdown",
   "metadata": {},
   "source": [
    "There may be occasions where using \"break\" is justified, but you should try to write your loop conditions such that \"break\" is not needed, since that usually makes the behavior of your loop simpler to read."
   ]
  },
  {
   "cell_type": "code",
   "execution_count": null,
   "metadata": {},
   "outputs": [],
   "source": [
    "# bad example\n",
    "binary_str = \"\"\n",
    "user_num = int(input(\"Please enter a positive integer: \"))\n",
    "while True:\n",
    "    binary_str = str(user_num % 2) + binary_str\n",
    "    user_num //= 2\n",
    "    if user_num == 0:  # This is the real loop condition\n",
    "        break\n",
    "print(binary_str)"
   ]
  },
  {
   "cell_type": "code",
   "execution_count": null,
   "metadata": {},
   "outputs": [],
   "source": [
    "# good example\n",
    "binary_str = \"\"\n",
    "user_num = int(input(\"Please enter a positive integer: \"))\n",
    "while user_num != 0:\n",
    "    binary_str = str(user_num % 2) + binary_str\n",
    "    user_num //= 2\n",
    "print(binary_str)"
   ]
  },
  {
   "cell_type": "markdown",
   "metadata": {},
   "source": [
    "Notice that we flipped from testing == to testing !=. That's because we were testing when to stop, but now we're testing when to keep going."
   ]
  },
  {
   "cell_type": "code",
   "execution_count": null,
   "metadata": {},
   "outputs": [],
   "source": [
    "# bad example\n",
    "while True:\n",
    "    user_num = int(input(\"Please enter an integer: \"))\n",
    "    if user_num % 10 == 0: # This is the real loop condition\n",
    "        break\n",
    "    else:\n",
    "        print(\"You entered\", user_num)\n",
    "print(\"all done\")"
   ]
  },
  {
   "cell_type": "code",
   "execution_count": null,
   "metadata": {},
   "outputs": [],
   "source": [
    "# good example\n",
    "# The first line declares user_num by initializing it to a value\n",
    "# that will make the loop condition True (otherwise we would\n",
    "# never enter the loop)\n",
    "user_num = 1\n",
    "while user_num % 10 != 0:\n",
    "    user_num = int(input(\"Please enter an integer: \"))\n",
    "    print(\"You entered\", user_num)\n",
    "print(\"all done\")"
   ]
  },
  {
   "cell_type": "markdown",
   "metadata": {},
   "source": [
    "If there are two things that need to be true for a loop to continue, it's easy enough to use and to connect them in the loop condition.   You can also do this when there are more than two things that need to be true, but it's possible in such cases that the loop condition could become as hard or harder to read than using break statements."
   ]
  },
  {
   "cell_type": "markdown",
   "metadata": {},
   "source": [
    "### nested loops"
   ]
  },
  {
   "cell_type": "markdown",
   "metadata": {},
   "source": [
    "Both while loops and for loops can be nested. You can also have if statements inside loops or loops inside if statements. You can have an if statement inside a for loop inside a while loop inside another if statement if you want to."
   ]
  },
  {
   "cell_type": "code",
   "execution_count": null,
   "metadata": {},
   "outputs": [],
   "source": [
    "# A nested for loop\n",
    "total_num_letters = 0\n",
    "print(\"Please enter the names of your three favorite animals.\")\n",
    "for val in range(1, 4):    \n",
    "    animal = input()\n",
    "    for letter in animal:        \n",
    "        total_num_letters += 1\n",
    "print(\"Those names contained a total of\", total_num_letters, \"characters.\")"
   ]
  },
  {
   "cell_type": "markdown",
   "metadata": {},
   "source": [
    "## Exercises"
   ]
  },
  {
   "cell_type": "markdown",
   "metadata": {},
   "source": [
    "1. Write code that reads an integer from the user and prints out the sum of the integers from 1 to that number."
   ]
  },
  {
   "cell_type": "code",
   "execution_count": null,
   "metadata": {},
   "outputs": [],
   "source": [
    "# type code here\n"
   ]
  },
  {
   "cell_type": "markdown",
   "metadata": {},
   "source": [
    "2. Write code that reads a string from the user, counts how many characters are in the string, and prints out \"odd\" if that number is odd, but prints \"even\" if that number is even."
   ]
  },
  {
   "cell_type": "code",
   "execution_count": null,
   "metadata": {},
   "outputs": [],
   "source": [
    "# type code here\n"
   ]
  },
  {
   "cell_type": "markdown",
   "metadata": {},
   "source": [
    "3. Write code that continues reading a string from the user and printing it out until the user enters \"quit\"."
   ]
  },
  {
   "cell_type": "code",
   "execution_count": null,
   "metadata": {},
   "outputs": [],
   "source": [
    "# type code here\n"
   ]
  }
 ],
 "metadata": {
  "kernelspec": {
   "display_name": "Python 3",
   "language": "python",
   "name": "python3"
  },
  "language_info": {
   "codemirror_mode": {
    "name": "ipython",
    "version": 3
   },
   "file_extension": ".py",
   "mimetype": "text/x-python",
   "name": "python",
   "nbconvert_exporter": "python",
   "pygments_lexer": "ipython3",
   "version": "3.8.2"
  }
 },
 "nbformat": 4,
 "nbformat_minor": 4
}
